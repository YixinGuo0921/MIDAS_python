{
 "cells": [
  {
   "cell_type": "markdown",
   "metadata": {},
   "source": [
    "# Use Monthly IP and LEI to Predict Quarterly GDP"
   ]
  },
  {
   "cell_type": "markdown",
   "metadata": {},
   "source": [
    "Author: Zhuping Xu"
   ]
  },
  {
   "cell_type": "code",
   "execution_count": 191,
   "metadata": {
    "collapsed": true
   },
   "outputs": [],
   "source": [
    "%matplotlib inline\n",
    "import datetime\n",
    "import numpy as np\n",
    "import pandas as pd\n",
    "\n",
    "from midas.mix import mix_freq, mix_freq2\n",
    "from midas.adl import estimate, forecast, midas_adl, rmse, estimate2,forecast2, midas_adl2"
   ]
  },
  {
   "cell_type": "code",
   "execution_count": 192,
   "metadata": {},
   "outputs": [
    {
     "name": "stderr",
     "output_type": "stream",
     "text": [
      "C:\\Users\\GUO\\AppData\\Local\\Temp\\ipykernel_72680\\2691339246.py:3: UserWarning: Could not infer format, so each element will be parsed individually, falling back to `dateutil`. To ensure parsing is consistent and as-expected, please specify a format.\n",
      "  ip = pd.read_csv(r\"D:\\wind\\IP_month.csv\", parse_dates=['DATE'], index_col='DATE')\n",
      "C:\\Users\\GUO\\AppData\\Local\\Temp\\ipykernel_72680\\2691339246.py:4: UserWarning: Could not infer format, so each element will be parsed individually, falling back to `dateutil`. To ensure parsing is consistent and as-expected, please specify a format.\n",
      "  lei = pd.read_csv(r\"D:\\wind\\Fixed_asset_monthly.csv\", parse_dates=['DATE'], index_col='DATE')\n"
     ]
    },
    {
     "data": {
      "text/html": [
       "<div>\n",
       "<style scoped>\n",
       "    .dataframe tbody tr th:only-of-type {\n",
       "        vertical-align: middle;\n",
       "    }\n",
       "\n",
       "    .dataframe tbody tr th {\n",
       "        vertical-align: top;\n",
       "    }\n",
       "\n",
       "    .dataframe thead th {\n",
       "        text-align: right;\n",
       "    }\n",
       "</style>\n",
       "<table border=\"1\" class=\"dataframe\">\n",
       "  <thead>\n",
       "    <tr style=\"text-align: right;\">\n",
       "      <th></th>\n",
       "      <th>GDP_CYOY</th>\n",
       "    </tr>\n",
       "    <tr>\n",
       "      <th>DATE</th>\n",
       "      <th></th>\n",
       "    </tr>\n",
       "  </thead>\n",
       "  <tbody>\n",
       "    <tr>\n",
       "      <th>2022-09-30</th>\n",
       "      <td>3.00</td>\n",
       "    </tr>\n",
       "    <tr>\n",
       "      <th>2022-12-31</th>\n",
       "      <td>2.99</td>\n",
       "    </tr>\n",
       "    <tr>\n",
       "      <th>2023-03-31</th>\n",
       "      <td>4.50</td>\n",
       "    </tr>\n",
       "    <tr>\n",
       "      <th>2023-06-30</th>\n",
       "      <td>5.50</td>\n",
       "    </tr>\n",
       "    <tr>\n",
       "      <th>2023-09-30</th>\n",
       "      <td>5.20</td>\n",
       "    </tr>\n",
       "  </tbody>\n",
       "</table>\n",
       "</div>"
      ],
      "text/plain": [
       "            GDP_CYOY\n",
       "DATE                \n",
       "2022-09-30      3.00\n",
       "2022-12-31      2.99\n",
       "2023-03-31      4.50\n",
       "2023-06-30      5.50\n",
       "2023-09-30      5.20"
      ]
     },
     "execution_count": 192,
     "metadata": {},
     "output_type": "execute_result"
    }
   ],
   "source": [
    "# Read data\n",
    "gdp = pd.read_csv(r\"D:\\wind\\GDP_season.csv\", parse_dates=['DATE'], index_col='DATE')\n",
    "ip = pd.read_csv(r\"D:\\wind\\IP_month.csv\", parse_dates=['DATE'], index_col='DATE')\n",
    "lei = pd.read_csv(r\"D:\\wind\\Fixed_asset_monthly.csv\", parse_dates=['DATE'], index_col='DATE')\n",
    "gdp.tail()"
   ]
  },
  {
   "cell_type": "code",
   "execution_count": 193,
   "metadata": {},
   "outputs": [
    {
     "data": {
      "text/html": [
       "<div>\n",
       "<style scoped>\n",
       "    .dataframe tbody tr th:only-of-type {\n",
       "        vertical-align: middle;\n",
       "    }\n",
       "\n",
       "    .dataframe tbody tr th {\n",
       "        vertical-align: top;\n",
       "    }\n",
       "\n",
       "    .dataframe thead th {\n",
       "        text-align: right;\n",
       "    }\n",
       "</style>\n",
       "<table border=\"1\" class=\"dataframe\">\n",
       "  <thead>\n",
       "    <tr style=\"text-align: right;\">\n",
       "      <th></th>\n",
       "      <th>IP_YOY</th>\n",
       "    </tr>\n",
       "    <tr>\n",
       "      <th>DATE</th>\n",
       "      <th></th>\n",
       "    </tr>\n",
       "  </thead>\n",
       "  <tbody>\n",
       "    <tr>\n",
       "      <th>2023-06-30</th>\n",
       "      <td>3.8</td>\n",
       "    </tr>\n",
       "    <tr>\n",
       "      <th>2023-07-31</th>\n",
       "      <td>3.8</td>\n",
       "    </tr>\n",
       "    <tr>\n",
       "      <th>2023-08-31</th>\n",
       "      <td>3.9</td>\n",
       "    </tr>\n",
       "    <tr>\n",
       "      <th>2023-09-30</th>\n",
       "      <td>4.0</td>\n",
       "    </tr>\n",
       "    <tr>\n",
       "      <th>2023-10-31</th>\n",
       "      <td>4.1</td>\n",
       "    </tr>\n",
       "  </tbody>\n",
       "</table>\n",
       "</div>"
      ],
      "text/plain": [
       "            IP_YOY\n",
       "DATE              \n",
       "2023-06-30     3.8\n",
       "2023-07-31     3.8\n",
       "2023-08-31     3.9\n",
       "2023-09-30     4.0\n",
       "2023-10-31     4.1"
      ]
     },
     "execution_count": 193,
     "metadata": {},
     "output_type": "execute_result"
    }
   ],
   "source": [
    "ip.tail()"
   ]
  },
  {
   "cell_type": "code",
   "execution_count": 194,
   "metadata": {},
   "outputs": [
    {
     "data": {
      "text/html": [
       "<div>\n",
       "<style scoped>\n",
       "    .dataframe tbody tr th:only-of-type {\n",
       "        vertical-align: middle;\n",
       "    }\n",
       "\n",
       "    .dataframe tbody tr th {\n",
       "        vertical-align: top;\n",
       "    }\n",
       "\n",
       "    .dataframe thead th {\n",
       "        text-align: right;\n",
       "    }\n",
       "</style>\n",
       "<table border=\"1\" class=\"dataframe\">\n",
       "  <thead>\n",
       "    <tr style=\"text-align: right;\">\n",
       "      <th></th>\n",
       "      <th>LEI_YOY</th>\n",
       "    </tr>\n",
       "    <tr>\n",
       "      <th>DATE</th>\n",
       "      <th></th>\n",
       "    </tr>\n",
       "  </thead>\n",
       "  <tbody>\n",
       "    <tr>\n",
       "      <th>2023-06-30</th>\n",
       "      <td>3.8</td>\n",
       "    </tr>\n",
       "    <tr>\n",
       "      <th>2023-07-31</th>\n",
       "      <td>3.4</td>\n",
       "    </tr>\n",
       "    <tr>\n",
       "      <th>2023-08-31</th>\n",
       "      <td>3.2</td>\n",
       "    </tr>\n",
       "    <tr>\n",
       "      <th>2023-09-30</th>\n",
       "      <td>3.1</td>\n",
       "    </tr>\n",
       "    <tr>\n",
       "      <th>2023-10-31</th>\n",
       "      <td>2.9</td>\n",
       "    </tr>\n",
       "  </tbody>\n",
       "</table>\n",
       "</div>"
      ],
      "text/plain": [
       "            LEI_YOY\n",
       "DATE               \n",
       "2023-06-30      3.8\n",
       "2023-07-31      3.4\n",
       "2023-08-31      3.2\n",
       "2023-09-30      3.1\n",
       "2023-10-31      2.9"
      ]
     },
     "execution_count": 194,
     "metadata": {},
     "output_type": "execute_result"
    }
   ],
   "source": [
    "lei.tail()"
   ]
  },
  {
   "cell_type": "code",
   "execution_count": 195,
   "metadata": {},
   "outputs": [
    {
     "data": {
      "text/plain": [
       "<Axes: xlabel='DATE'>"
      ]
     },
     "execution_count": 195,
     "metadata": {},
     "output_type": "execute_result"
    },
    {
     "data": {
      "image/png": "[encoded data removed]",
      "text/plain": [
       "<Figure size 1500x400 with 1 Axes>"
      ]
     },
     "metadata": {},
     "output_type": "display_data"
    }
   ],
   "source": [
    "# Plot the sample data\n",
    "df = pd.concat([gdp, ip, lei], axis=1)\n",
    "df.columns = ['gdp_cyoy','ip_yoy','LEI_YOY']\n",
    "df[['gdp_cyoy','ip_yoy','LEI_YOY']].loc['2000-1-31':].plot(figsize=(15,4), style=['o','-','--'])"
   ]
  },
  {
   "cell_type": "markdown",
   "metadata": {},
   "source": [
    "## Mixing Frequencies\n",
    "\n",
    "The first step is to do the actual frequency mixing.  In this case we're mixing monthly data (industrial producation % yoy growth, leading indicator %yoy) with quarterly data (gdp % yoy growth).  "
   ]
  },
  {
   "cell_type": "code",
   "execution_count": 196,
   "metadata": {
    "collapsed": true,
    "scrolled": true
   },
   "outputs": [],
   "source": [
    "y, yl, x1, x2, yf, ylf, x1f, x2f =mix_freq2(gdp.GDP_CYOY, ip.IP_YOY,lei.LEI_YOY, \"3m\",\"3m\", 1, 2,\n",
    "                                 start_date=datetime.datetime(2000,1,31),\n",
    "                                 end_date=datetime.datetime(2009,12,31))"
   ]
  },
  {
   "cell_type": "markdown",
   "metadata": {},
   "source": [
    "## Fitting the Model\n",
    "\n",
    "Because of the form of the MIDAS model, fitting the model requires using non-linear least squares.  For now, if you call the __estimate2__ function directly, you'll get back a results of type scipy.optimize.optimize.OptimizeResult. We use data from 2011-3-31 to 2013-3-31 to fit the model and use the rest of data to forecast."
   ]
  },
  {
   "cell_type": "code",
   "execution_count": 197,
   "metadata": {},
   "outputs": [
    {
     "name": "stderr",
     "output_type": "stream",
     "text": [
      "c:\\Users\\GUO\\hello\\.venv\\midas_pro\\example\\midas\\adl.py:85: FutureWarning: `rcond` parameter will change to the default of machine precision times ``max(M, N)`` where M and N are the input matrix dimensions.\n",
      "To use the future default and silence this warning we advise to pass `rcond=None`, to keep using the old, explicitly pass `rcond=-1`.\n",
      "  c = np.linalg.lstsq(np.concatenate([np.ones((len(xw1), 1)), xw1.reshape((len(xw1), 1)), xw2.reshape((len(xw2), 1)), yl], axis=1), y)[0]\n"
     ]
    },
    {
     "data": {
      "text/plain": [
       "array([ 1.34281826,  0.        ,  0.        , -1.        ,  0.        ,\n",
       "       -1.        ,  0.        ,  0.87332701])"
      ]
     },
     "execution_count": 197,
     "metadata": {},
     "output_type": "execute_result"
    }
   ],
   "source": [
    "res = estimate2(y, yl, x1, x2, poly1='expalmon', poly2='expalmon')\n",
    "res.x\n",
    "#opt params [beta0, beta1, beta2, theta11, theta12, theta21, theta22, lambda]"
   ]
  },
  {
   "cell_type": "markdown",
   "metadata": {},
   "source": [
    "You can also call __forecast2__ directly.  This will use the optimization results returned from __eatimate2__ to produce a forecast for every date in the index of the forecast inputs (here x1f, x2f and ylf):"
   ]
  },
  {
   "cell_type": "code",
   "execution_count": 198,
   "metadata": {
    "scrolled": true
   },
   "outputs": [
    {
     "data": {
      "text/html": [
       "<div>\n",
       "<style scoped>\n",
       "    .dataframe tbody tr th:only-of-type {\n",
       "        vertical-align: middle;\n",
       "    }\n",
       "\n",
       "    .dataframe tbody tr th {\n",
       "        vertical-align: top;\n",
       "    }\n",
       "\n",
       "    .dataframe thead th {\n",
       "        text-align: right;\n",
       "    }\n",
       "</style>\n",
       "<table border=\"1\" class=\"dataframe\">\n",
       "  <thead>\n",
       "    <tr style=\"text-align: right;\">\n",
       "      <th></th>\n",
       "      <th>yfh</th>\n",
       "      <th>GDP_CYOY</th>\n",
       "      <th>gap</th>\n",
       "    </tr>\n",
       "    <tr>\n",
       "      <th>DATE</th>\n",
       "      <th></th>\n",
       "      <th></th>\n",
       "      <th></th>\n",
       "    </tr>\n",
       "  </thead>\n",
       "  <tbody>\n",
       "    <tr>\n",
       "      <th>2010-03-31</th>\n",
       "      <td>9.552092</td>\n",
       "      <td>12.20</td>\n",
       "      <td>-2.647908</td>\n",
       "    </tr>\n",
       "    <tr>\n",
       "      <th>2010-06-30</th>\n",
       "      <td>11.997408</td>\n",
       "      <td>11.40</td>\n",
       "      <td>0.597408</td>\n",
       "    </tr>\n",
       "    <tr>\n",
       "      <th>2010-09-30</th>\n",
       "      <td>11.298746</td>\n",
       "      <td>10.90</td>\n",
       "      <td>0.398746</td>\n",
       "    </tr>\n",
       "    <tr>\n",
       "      <th>2010-12-31</th>\n",
       "      <td>10.862083</td>\n",
       "      <td>10.64</td>\n",
       "      <td>0.222083</td>\n",
       "    </tr>\n",
       "    <tr>\n",
       "      <th>2011-03-31</th>\n",
       "      <td>10.635018</td>\n",
       "      <td>10.20</td>\n",
       "      <td>0.435018</td>\n",
       "    </tr>\n",
       "    <tr>\n",
       "      <th>2011-06-30</th>\n",
       "      <td>10.250754</td>\n",
       "      <td>10.10</td>\n",
       "      <td>0.150754</td>\n",
       "    </tr>\n",
       "    <tr>\n",
       "      <th>2011-09-30</th>\n",
       "      <td>10.163421</td>\n",
       "      <td>9.90</td>\n",
       "      <td>0.263421</td>\n",
       "    </tr>\n",
       "    <tr>\n",
       "      <th>2011-12-31</th>\n",
       "      <td>9.988756</td>\n",
       "      <td>9.55</td>\n",
       "      <td>0.438756</td>\n",
       "    </tr>\n",
       "    <tr>\n",
       "      <th>2012-03-31</th>\n",
       "      <td>9.683091</td>\n",
       "      <td>8.10</td>\n",
       "      <td>1.583091</td>\n",
       "    </tr>\n",
       "    <tr>\n",
       "      <th>2012-06-30</th>\n",
       "      <td>8.416767</td>\n",
       "      <td>7.90</td>\n",
       "      <td>0.516767</td>\n",
       "    </tr>\n",
       "    <tr>\n",
       "      <th>2012-09-30</th>\n",
       "      <td>8.242102</td>\n",
       "      <td>7.80</td>\n",
       "      <td>0.442102</td>\n",
       "    </tr>\n",
       "    <tr>\n",
       "      <th>2012-12-31</th>\n",
       "      <td>8.154769</td>\n",
       "      <td>7.86</td>\n",
       "      <td>0.294769</td>\n",
       "    </tr>\n",
       "    <tr>\n",
       "      <th>2013-03-31</th>\n",
       "      <td>8.207169</td>\n",
       "      <td>7.90</td>\n",
       "      <td>0.307169</td>\n",
       "    </tr>\n",
       "    <tr>\n",
       "      <th>2013-06-30</th>\n",
       "      <td>8.242102</td>\n",
       "      <td>7.70</td>\n",
       "      <td>0.542102</td>\n",
       "    </tr>\n",
       "    <tr>\n",
       "      <th>2013-09-30</th>\n",
       "      <td>8.067436</td>\n",
       "      <td>7.80</td>\n",
       "      <td>0.267436</td>\n",
       "    </tr>\n",
       "    <tr>\n",
       "      <th>2013-12-31</th>\n",
       "      <td>8.154769</td>\n",
       "      <td>7.77</td>\n",
       "      <td>0.384769</td>\n",
       "    </tr>\n",
       "    <tr>\n",
       "      <th>2014-03-31</th>\n",
       "      <td>8.128569</td>\n",
       "      <td>7.50</td>\n",
       "      <td>0.628569</td>\n",
       "    </tr>\n",
       "    <tr>\n",
       "      <th>2014-06-30</th>\n",
       "      <td>7.892771</td>\n",
       "      <td>7.60</td>\n",
       "      <td>0.292771</td>\n",
       "    </tr>\n",
       "    <tr>\n",
       "      <th>2014-09-30</th>\n",
       "      <td>7.980104</td>\n",
       "      <td>7.50</td>\n",
       "      <td>0.480104</td>\n",
       "    </tr>\n",
       "    <tr>\n",
       "      <th>2014-12-31</th>\n",
       "      <td>7.892771</td>\n",
       "      <td>7.43</td>\n",
       "      <td>0.462771</td>\n",
       "    </tr>\n",
       "    <tr>\n",
       "      <th>2015-03-31</th>\n",
       "      <td>7.831638</td>\n",
       "      <td>7.10</td>\n",
       "      <td>0.731638</td>\n",
       "    </tr>\n",
       "    <tr>\n",
       "      <th>2015-06-30</th>\n",
       "      <td>7.543440</td>\n",
       "      <td>7.10</td>\n",
       "      <td>0.443440</td>\n",
       "    </tr>\n",
       "    <tr>\n",
       "      <th>2015-09-30</th>\n",
       "      <td>7.543440</td>\n",
       "      <td>7.10</td>\n",
       "      <td>0.443440</td>\n",
       "    </tr>\n",
       "    <tr>\n",
       "      <th>2015-12-31</th>\n",
       "      <td>7.543440</td>\n",
       "      <td>7.04</td>\n",
       "      <td>0.503440</td>\n",
       "    </tr>\n",
       "    <tr>\n",
       "      <th>2016-03-31</th>\n",
       "      <td>7.491040</td>\n",
       "      <td>6.90</td>\n",
       "      <td>0.591040</td>\n",
       "    </tr>\n",
       "    <tr>\n",
       "      <th>2016-06-30</th>\n",
       "      <td>7.368775</td>\n",
       "      <td>6.90</td>\n",
       "      <td>0.468775</td>\n",
       "    </tr>\n",
       "    <tr>\n",
       "      <th>2016-09-30</th>\n",
       "      <td>7.368775</td>\n",
       "      <td>6.80</td>\n",
       "      <td>0.568775</td>\n",
       "    </tr>\n",
       "    <tr>\n",
       "      <th>2016-12-31</th>\n",
       "      <td>7.281442</td>\n",
       "      <td>6.85</td>\n",
       "      <td>0.431442</td>\n",
       "    </tr>\n",
       "    <tr>\n",
       "      <th>2017-03-31</th>\n",
       "      <td>7.325108</td>\n",
       "      <td>7.00</td>\n",
       "      <td>0.325108</td>\n",
       "    </tr>\n",
       "    <tr>\n",
       "      <th>2017-06-30</th>\n",
       "      <td>7.456107</td>\n",
       "      <td>7.00</td>\n",
       "      <td>0.456107</td>\n",
       "    </tr>\n",
       "    <tr>\n",
       "      <th>2017-09-30</th>\n",
       "      <td>7.456107</td>\n",
       "      <td>7.00</td>\n",
       "      <td>0.456107</td>\n",
       "    </tr>\n",
       "    <tr>\n",
       "      <th>2017-12-31</th>\n",
       "      <td>7.456107</td>\n",
       "      <td>6.95</td>\n",
       "      <td>0.506107</td>\n",
       "    </tr>\n",
       "    <tr>\n",
       "      <th>2018-03-31</th>\n",
       "      <td>7.412441</td>\n",
       "      <td>6.90</td>\n",
       "      <td>0.512441</td>\n",
       "    </tr>\n",
       "    <tr>\n",
       "      <th>2018-06-30</th>\n",
       "      <td>7.368775</td>\n",
       "      <td>6.90</td>\n",
       "      <td>0.468775</td>\n",
       "    </tr>\n",
       "    <tr>\n",
       "      <th>2018-09-30</th>\n",
       "      <td>7.368775</td>\n",
       "      <td>6.80</td>\n",
       "      <td>0.568775</td>\n",
       "    </tr>\n",
       "    <tr>\n",
       "      <th>2018-12-31</th>\n",
       "      <td>7.281442</td>\n",
       "      <td>6.75</td>\n",
       "      <td>0.531442</td>\n",
       "    </tr>\n",
       "    <tr>\n",
       "      <th>2019-03-31</th>\n",
       "      <td>7.237776</td>\n",
       "      <td>6.30</td>\n",
       "      <td>0.937776</td>\n",
       "    </tr>\n",
       "    <tr>\n",
       "      <th>2019-06-30</th>\n",
       "      <td>6.844778</td>\n",
       "      <td>6.10</td>\n",
       "      <td>0.744778</td>\n",
       "    </tr>\n",
       "    <tr>\n",
       "      <th>2019-09-30</th>\n",
       "      <td>6.670113</td>\n",
       "      <td>6.00</td>\n",
       "      <td>0.670113</td>\n",
       "    </tr>\n",
       "    <tr>\n",
       "      <th>2019-12-31</th>\n",
       "      <td>6.582780</td>\n",
       "      <td>5.95</td>\n",
       "      <td>0.632780</td>\n",
       "    </tr>\n",
       "    <tr>\n",
       "      <th>2020-03-31</th>\n",
       "      <td>6.539114</td>\n",
       "      <td>-6.90</td>\n",
       "      <td>13.439114</td>\n",
       "    </tr>\n",
       "    <tr>\n",
       "      <th>2020-06-30</th>\n",
       "      <td>-4.683138</td>\n",
       "      <td>-1.70</td>\n",
       "      <td>-2.983138</td>\n",
       "    </tr>\n",
       "    <tr>\n",
       "      <th>2020-09-30</th>\n",
       "      <td>-0.141838</td>\n",
       "      <td>0.60</td>\n",
       "      <td>-0.741838</td>\n",
       "    </tr>\n",
       "    <tr>\n",
       "      <th>2020-12-31</th>\n",
       "      <td>1.866814</td>\n",
       "      <td>2.24</td>\n",
       "      <td>-0.373186</td>\n",
       "    </tr>\n",
       "    <tr>\n",
       "      <th>2021-03-31</th>\n",
       "      <td>3.299071</td>\n",
       "      <td>18.70</td>\n",
       "      <td>-15.400929</td>\n",
       "    </tr>\n",
       "    <tr>\n",
       "      <th>2021-06-30</th>\n",
       "      <td>17.674033</td>\n",
       "      <td>13.00</td>\n",
       "      <td>4.674033</td>\n",
       "    </tr>\n",
       "    <tr>\n",
       "      <th>2021-09-30</th>\n",
       "      <td>12.696069</td>\n",
       "      <td>10.10</td>\n",
       "      <td>2.596069</td>\n",
       "    </tr>\n",
       "    <tr>\n",
       "      <th>2021-12-31</th>\n",
       "      <td>10.163421</td>\n",
       "      <td>8.45</td>\n",
       "      <td>1.713421</td>\n",
       "    </tr>\n",
       "    <tr>\n",
       "      <th>2022-03-31</th>\n",
       "      <td>8.722432</td>\n",
       "      <td>4.80</td>\n",
       "      <td>3.922432</td>\n",
       "    </tr>\n",
       "    <tr>\n",
       "      <th>2022-06-30</th>\n",
       "      <td>5.534788</td>\n",
       "      <td>2.50</td>\n",
       "      <td>3.034788</td>\n",
       "    </tr>\n",
       "    <tr>\n",
       "      <th>2022-09-30</th>\n",
       "      <td>3.526136</td>\n",
       "      <td>3.00</td>\n",
       "      <td>0.526136</td>\n",
       "    </tr>\n",
       "    <tr>\n",
       "      <th>2022-12-31</th>\n",
       "      <td>3.962799</td>\n",
       "      <td>2.99</td>\n",
       "      <td>0.972799</td>\n",
       "    </tr>\n",
       "    <tr>\n",
       "      <th>2023-03-31</th>\n",
       "      <td>3.954066</td>\n",
       "      <td>4.50</td>\n",
       "      <td>-0.545934</td>\n",
       "    </tr>\n",
       "    <tr>\n",
       "      <th>2023-06-30</th>\n",
       "      <td>5.272790</td>\n",
       "      <td>5.50</td>\n",
       "      <td>-0.227210</td>\n",
       "    </tr>\n",
       "    <tr>\n",
       "      <th>2023-09-30</th>\n",
       "      <td>6.146117</td>\n",
       "      <td>5.20</td>\n",
       "      <td>0.946117</td>\n",
       "    </tr>\n",
       "  </tbody>\n",
       "</table>\n",
       "</div>"
      ],
      "text/plain": [
       "                  yfh  GDP_CYOY        gap\n",
       "DATE                                      \n",
       "2010-03-31   9.552092     12.20  -2.647908\n",
       "2010-06-30  11.997408     11.40   0.597408\n",
       "2010-09-30  11.298746     10.90   0.398746\n",
       "2010-12-31  10.862083     10.64   0.222083\n",
       "2011-03-31  10.635018     10.20   0.435018\n",
       "2011-06-30  10.250754     10.10   0.150754\n",
       "2011-09-30  10.163421      9.90   0.263421\n",
       "2011-12-31   9.988756      9.55   0.438756\n",
       "2012-03-31   9.683091      8.10   1.583091\n",
       "2012-06-30   8.416767      7.90   0.516767\n",
       "2012-09-30   8.242102      7.80   0.442102\n",
       "2012-12-31   8.154769      7.86   0.294769\n",
       "2013-03-31   8.207169      7.90   0.307169\n",
       "2013-06-30   8.242102      7.70   0.542102\n",
       "2013-09-30   8.067436      7.80   0.267436\n",
       "2013-12-31   8.154769      7.77   0.384769\n",
       "2014-03-31   8.128569      7.50   0.628569\n",
       "2014-06-30   7.892771      7.60   0.292771\n",
       "2014-09-30   7.980104      7.50   0.480104\n",
       "2014-12-31   7.892771      7.43   0.462771\n",
       "2015-03-31   7.831638      7.10   0.731638\n",
       "2015-06-30   7.543440      7.10   0.443440\n",
       "2015-09-30   7.543440      7.10   0.443440\n",
       "2015-12-31   7.543440      7.04   0.503440\n",
       "2016-03-31   7.491040      6.90   0.591040\n",
       "2016-06-30   7.368775      6.90   0.468775\n",
       "2016-09-30   7.368775      6.80   0.568775\n",
       "2016-12-31   7.281442      6.85   0.431442\n",
       "2017-03-31   7.325108      7.00   0.325108\n",
       "2017-06-30   7.456107      7.00   0.456107\n",
       "2017-09-30   7.456107      7.00   0.456107\n",
       "2017-12-31   7.456107      6.95   0.506107\n",
       "2018-03-31   7.412441      6.90   0.512441\n",
       "2018-06-30   7.368775      6.90   0.468775\n",
       "2018-09-30   7.368775      6.80   0.568775\n",
       "2018-12-31   7.281442      6.75   0.531442\n",
       "2019-03-31   7.237776      6.30   0.937776\n",
       "2019-06-30   6.844778      6.10   0.744778\n",
       "2019-09-30   6.670113      6.00   0.670113\n",
       "2019-12-31   6.582780      5.95   0.632780\n",
       "2020-03-31   6.539114     -6.90  13.439114\n",
       "2020-06-30  -4.683138     -1.70  -2.983138\n",
       "2020-09-30  -0.141838      0.60  -0.741838\n",
       "2020-12-31   1.866814      2.24  -0.373186\n",
       "2021-03-31   3.299071     18.70 -15.400929\n",
       "2021-06-30  17.674033     13.00   4.674033\n",
       "2021-09-30  12.696069     10.10   2.596069\n",
       "2021-12-31  10.163421      8.45   1.713421\n",
       "2022-03-31   8.722432      4.80   3.922432\n",
       "2022-06-30   5.534788      2.50   3.034788\n",
       "2022-09-30   3.526136      3.00   0.526136\n",
       "2022-12-31   3.962799      2.99   0.972799\n",
       "2023-03-31   3.954066      4.50  -0.545934\n",
       "2023-06-30   5.272790      5.50  -0.227210\n",
       "2023-09-30   6.146117      5.20   0.946117"
      ]
     },
     "execution_count": 198,
     "metadata": {},
     "output_type": "execute_result"
    }
   ],
   "source": [
    "fc = forecast2(x1f, x2f, ylf, res, poly1='expalmon',poly2='expalmon')\n",
    "forecast_df = fc.join(yf)\n",
    "forecast_df['gap'] = forecast_df.yfh - forecast_df.GDP_CYOY\n",
    "forecast_df"
   ]
  },
  {
   "cell_type": "code",
   "execution_count": 199,
   "metadata": {},
   "outputs": [
    {
     "data": {
      "text/plain": [
       "<Axes: xlabel='DATE'>"
      ]
     },
     "execution_count": 199,
     "metadata": {},
     "output_type": "execute_result"
    },
    {
     "data": {
      "image/png": "[encoded data removed]",
      "text/plain": [
       "<Figure size 1500x400 with 1 Axes>"
      ]
     },
     "metadata": {},
     "output_type": "display_data"
    }
   ],
   "source": [
    "forecast_df[['GDP_CYOY','yfh']].loc['2000-1-31':].plot(figsize=(15,4), style=['o','-'])"
   ]
  },
  {
   "cell_type": "markdown",
   "metadata": {},
   "source": [
    "## The midas_adl and midas_adl2 function\n",
    "\n",
    "The __midas\\_adl__ and __midas\\_adl2__ function wraps up frequency-mixing, fitting, and forecasting into one process.  The default mode of forecasting is _rolling_."
   ]
  },
  {
   "cell_type": "markdown",
   "metadata": {},
   "source": [
    "### Use one monthly indicator"
   ]
  },
  {
   "cell_type": "code",
   "execution_count": 200,
   "metadata": {},
   "outputs": [
    {
     "name": "stderr",
     "output_type": "stream",
     "text": [
      "c:\\Users\\GUO\\hello\\.venv\\midas_pro\\example\\midas\\adl.py:32: FutureWarning: `rcond` parameter will change to the default of machine precision times ``max(M, N)`` where M and N are the input matrix dimensions.\n",
      "To use the future default and silence this warning we advise to pass `rcond=None`, to keep using the old, explicitly pass `rcond=-1`.\n",
      "  c = np.linalg.lstsq(np.concatenate([np.ones((len(xw), 1)), xw.reshape((len(xw), 1)), yl], axis=1), y)[0]\n"
     ]
    },
    {
     "data": {
      "text/plain": [
       "5.380726459927661"
      ]
     },
     "execution_count": 200,
     "metadata": {},
     "output_type": "execute_result"
    }
   ],
   "source": [
    "# use IP_YOY\n",
    "rmse_fc1, fc1 = midas_adl(gdp.GDP_CYOY, ip.IP_YOY, \n",
    "                         start_date=datetime.datetime(2000,3,31),\n",
    "                         end_date=datetime.datetime(2006,3,31),\n",
    "                         xlag=\"3m\",\n",
    "                         ylag=1,\n",
    "                         horizon=1,\n",
    "                         poly='expalmon',\n",
    "                         method='rolling')\n",
    "rmse_fc1"
   ]
  },
  {
   "cell_type": "code",
   "execution_count": 201,
   "metadata": {},
   "outputs": [
    {
     "data": {
      "text/plain": [
       "5.380726459927661"
      ]
     },
     "execution_count": 201,
     "metadata": {},
     "output_type": "execute_result"
    }
   ],
   "source": [
    "# use LEI_YOY\n",
    "rmse_fc2, fc2 = midas_adl(gdp.GDP_CYOY, lei.LEI_YOY, \n",
    "                         start_date=datetime.datetime(2000,3,31),\n",
    "                         end_date=datetime.datetime(2006,3,31),\n",
    "                         xlag=\"3m\",\n",
    "                         ylag=1,\n",
    "                         horizon=1,\n",
    "                         poly='expalmon',\n",
    "                         method='rolling')\n",
    "rmse_fc2"
   ]
  },
  {
   "cell_type": "markdown",
   "metadata": {},
   "source": [
    "### Use two monthly indicator"
   ]
  },
  {
   "cell_type": "code",
   "execution_count": 202,
   "metadata": {},
   "outputs": [
    {
     "name": "stderr",
     "output_type": "stream",
     "text": [
      "c:\\Users\\GUO\\hello\\.venv\\midas_pro\\example\\midas\\adl.py:85: FutureWarning: `rcond` parameter will change to the default of machine precision times ``max(M, N)`` where M and N are the input matrix dimensions.\n",
      "To use the future default and silence this warning we advise to pass `rcond=None`, to keep using the old, explicitly pass `rcond=-1`.\n",
      "  c = np.linalg.lstsq(np.concatenate([np.ones((len(xw1), 1)), xw1.reshape((len(xw1), 1)), xw2.reshape((len(xw2), 1)), yl], axis=1), y)[0]\n"
     ]
    },
    {
     "data": {
      "text/plain": [
       "5.38072645992765"
      ]
     },
     "execution_count": 202,
     "metadata": {},
     "output_type": "execute_result"
    }
   ],
   "source": [
    "# use IP_YOY and LEI_YOY\n",
    "rmse_fc, fc = midas_adl2(gdp.GDP_CYOY, ip.IP_YOY,lei.LEI_YOY, \n",
    "                         start_date=datetime.datetime(2000,3,31),\n",
    "                         end_date=datetime.datetime(2006,3,31),\n",
    "                         x1lag=\"3m\",\n",
    "                         x2lag=\"3m\",\n",
    "                         ylag=1,\n",
    "                         horizon=1,\n",
    "                         poly1='expalmon',\n",
    "                         poly2='expalmon',\n",
    "                         method='rolling')\n",
    "rmse_fc"
   ]
  },
  {
   "cell_type": "markdown",
   "metadata": {},
   "source": [
    "# Forecast quarterly GDP"
   ]
  },
  {
   "cell_type": "code",
   "execution_count": 203,
   "metadata": {
    "collapsed": true
   },
   "outputs": [],
   "source": [
    "# Set start date and end date\n",
    "start_date=datetime.datetime(2000,3,31)\n",
    "end_date=datetime.datetime(2009,12,31)"
   ]
  },
  {
   "cell_type": "code",
   "execution_count": 204,
   "metadata": {
    "collapsed": true,
    "scrolled": true
   },
   "outputs": [],
   "source": [
    "df_result=pd.DataFrame(index=ip.index, columns=['final_gdp_date'])\n",
    "temp=df_result.iloc[2::3].reset_index()\n",
    "for i in range(0,len(temp)):\n",
    "    df_result['final_gdp_date'][i*3+2]=temp['DATE'][i].date()\n",
    "df_result[['final_gdp_date','GDP_CYOY']]=df_result.join(gdp)[['final_gdp_date','GDP_CYOY']].fillna(method='bfill')"
   ]
  },
  {
   "cell_type": "code",
   "execution_count": 205,
   "metadata": {
    "scrolled": true
   },
   "outputs": [
    {
     "data": {
      "text/html": [
       "<div>\n",
       "<style scoped>\n",
       "    .dataframe tbody tr th:only-of-type {\n",
       "        vertical-align: middle;\n",
       "    }\n",
       "\n",
       "    .dataframe tbody tr th {\n",
       "        vertical-align: top;\n",
       "    }\n",
       "\n",
       "    .dataframe thead th {\n",
       "        text-align: right;\n",
       "    }\n",
       "</style>\n",
       "<table border=\"1\" class=\"dataframe\">\n",
       "  <thead>\n",
       "    <tr style=\"text-align: right;\">\n",
       "      <th></th>\n",
       "      <th>final_gdp_date</th>\n",
       "      <th>GDP_CYOY</th>\n",
       "      <th>benchmark</th>\n",
       "    </tr>\n",
       "    <tr>\n",
       "      <th>DATE</th>\n",
       "      <th></th>\n",
       "      <th></th>\n",
       "      <th></th>\n",
       "    </tr>\n",
       "  </thead>\n",
       "  <tbody>\n",
       "    <tr>\n",
       "      <th>2000-01-31</th>\n",
       "      <td>2000-03-31</td>\n",
       "      <td>8.7</td>\n",
       "      <td>NaN</td>\n",
       "    </tr>\n",
       "    <tr>\n",
       "      <th>2000-02-29</th>\n",
       "      <td>2000-03-31</td>\n",
       "      <td>8.7</td>\n",
       "      <td>NaN</td>\n",
       "    </tr>\n",
       "    <tr>\n",
       "      <th>2000-03-31</th>\n",
       "      <td>2000-03-31</td>\n",
       "      <td>8.7</td>\n",
       "      <td>NaN</td>\n",
       "    </tr>\n",
       "    <tr>\n",
       "      <th>2000-04-30</th>\n",
       "      <td>2000-06-30</td>\n",
       "      <td>8.9</td>\n",
       "      <td>NaN</td>\n",
       "    </tr>\n",
       "    <tr>\n",
       "      <th>2000-05-31</th>\n",
       "      <td>2000-06-30</td>\n",
       "      <td>8.9</td>\n",
       "      <td>NaN</td>\n",
       "    </tr>\n",
       "    <tr>\n",
       "      <th>...</th>\n",
       "      <td>...</td>\n",
       "      <td>...</td>\n",
       "      <td>...</td>\n",
       "    </tr>\n",
       "    <tr>\n",
       "      <th>2023-06-30</th>\n",
       "      <td>2023-06-30</td>\n",
       "      <td>5.5</td>\n",
       "      <td>6.180000</td>\n",
       "    </tr>\n",
       "    <tr>\n",
       "      <th>2023-07-31</th>\n",
       "      <td>2023-09-30</td>\n",
       "      <td>5.2</td>\n",
       "      <td>6.158034</td>\n",
       "    </tr>\n",
       "    <tr>\n",
       "      <th>2023-08-31</th>\n",
       "      <td>2023-09-30</td>\n",
       "      <td>5.2</td>\n",
       "      <td>6.136068</td>\n",
       "    </tr>\n",
       "    <tr>\n",
       "      <th>2023-09-30</th>\n",
       "      <td>2023-09-30</td>\n",
       "      <td>5.2</td>\n",
       "      <td>6.114103</td>\n",
       "    </tr>\n",
       "    <tr>\n",
       "      <th>2023-10-31</th>\n",
       "      <td>NaN</td>\n",
       "      <td>NaN</td>\n",
       "      <td>NaN</td>\n",
       "    </tr>\n",
       "  </tbody>\n",
       "</table>\n",
       "<p>286 rows × 3 columns</p>\n",
       "</div>"
      ],
      "text/plain": [
       "           final_gdp_date  GDP_CYOY  benchmark\n",
       "DATE                                          \n",
       "2000-01-31     2000-03-31       8.7        NaN\n",
       "2000-02-29     2000-03-31       8.7        NaN\n",
       "2000-03-31     2000-03-31       8.7        NaN\n",
       "2000-04-30     2000-06-30       8.9        NaN\n",
       "2000-05-31     2000-06-30       8.9        NaN\n",
       "...                   ...       ...        ...\n",
       "2023-06-30     2023-06-30       5.5   6.180000\n",
       "2023-07-31     2023-09-30       5.2   6.158034\n",
       "2023-08-31     2023-09-30       5.2   6.136068\n",
       "2023-09-30     2023-09-30       5.2   6.114103\n",
       "2023-10-31            NaN       NaN        NaN\n",
       "\n",
       "[286 rows x 3 columns]"
      ]
     },
     "execution_count": 205,
     "metadata": {},
     "output_type": "execute_result"
    }
   ],
   "source": [
    "# To compute benchmark forecast\n",
    "n_month=df_result.index.get_loc(end_date)-df_result.index.get_loc(start_date)\n",
    "df_result['benchmark']=df_result['GDP_CYOY'].rolling(window=n_month).mean()\n",
    "df_result"
   ]
  },
  {
   "cell_type": "markdown",
   "metadata": {},
   "source": [
    "Note: GDP_CYOY is actual GDP growth, and benchmark is the in-sample mean of GDP growth recomputed every recursion."
   ]
  },
  {
   "cell_type": "code",
   "execution_count": 206,
   "metadata": {
    "collapsed": true
   },
   "outputs": [],
   "source": [
    "# Forecast_all, n is the max horizon, we will set n=3\n",
    "def forecast_all(y_in, x1_in, x2_in, start_date, end_date, x1lag, x2lag, ylag,n, \n",
    "                 forecast_horizon, poly1, poly2, method='rolling'):\n",
    "    forecast_result=[]\n",
    "    rmse_result=[]\n",
    "    for i in range(n):\n",
    "        rmse,fc=midas_adl2(y_in, x1_in, x2_in, start_date=start_date, end_date=end_date,\n",
    "                           x1lag=x1lag, x2lag=x2lag, ylag=ylag, horizon=i,\n",
    "                           poly1=poly1, poly2=poly2, method=method)\n",
    "        forecast_result.append(fc)\n",
    "        rmse_result.append(rmse)\n",
    "    return forecast_result, rmse_result"
   ]
  },
  {
   "cell_type": "code",
   "execution_count": 207,
   "metadata": {
    "collapsed": true
   },
   "outputs": [],
   "source": [
    "# Define a function to assist storing forecast gdp to df_result\n",
    "def store_gdp(df0,df1,df2,df):\n",
    "    df0=df0.reset_index()\n",
    "    df0['DATE']=df0['index']\n",
    "    df0=df0.drop(['index','targets'],axis=1)\n",
    "    \n",
    "    df1=df1.reset_index()\n",
    "    df1['DATE']=df1['index']\n",
    "    df1=df1.drop(['index','targets'],axis=1)\n",
    "    \n",
    "    df2=df2.reset_index()\n",
    "    df2['DATE']=df2['index']\n",
    "    df2=df2.drop(['index','targets'],axis=1)\n",
    "    \n",
    "    df_result=df.copy()\n",
    "    df_result=df_result.reset_index()\n",
    "    df_result=df_result.merge(df2,how='left',on='DATE')\n",
    "    df_result=df_result.merge(df1,how='left',on='DATE')\n",
    "    df_result=df_result.merge(df0,how='left',on='DATE')\n",
    "    \n",
    "    df_result['preds_x']=df_result['preds_x'].shift(-2)\n",
    "    df_result['preds_y']=df_result['preds_y'].shift(-1)\n",
    "    df_result=df_result.fillna(0)\n",
    "    df_result['forecast_gdp']=df_result['preds_x']+df_result['preds_y']+df_result['preds']\n",
    "    df_result=df_result.drop(['preds_x','preds_y','preds'],axis=1).set_index('DATE')\n",
    "    \n",
    "    return df_result"
   ]
  },
  {
   "cell_type": "code",
   "execution_count": 208,
   "metadata": {},
   "outputs": [
    {
     "data": {
      "text/html": [
       "<div>\n",
       "<style scoped>\n",
       "    .dataframe tbody tr th:only-of-type {\n",
       "        vertical-align: middle;\n",
       "    }\n",
       "\n",
       "    .dataframe tbody tr th {\n",
       "        vertical-align: top;\n",
       "    }\n",
       "\n",
       "    .dataframe thead th {\n",
       "        text-align: right;\n",
       "    }\n",
       "</style>\n",
       "<table border=\"1\" class=\"dataframe\">\n",
       "  <thead>\n",
       "    <tr style=\"text-align: right;\">\n",
       "      <th></th>\n",
       "      <th>final_gdp_date</th>\n",
       "      <th>GDP_CYOY</th>\n",
       "      <th>benchmark</th>\n",
       "    </tr>\n",
       "    <tr>\n",
       "      <th>DATE</th>\n",
       "      <th></th>\n",
       "      <th></th>\n",
       "      <th></th>\n",
       "    </tr>\n",
       "  </thead>\n",
       "  <tbody>\n",
       "    <tr>\n",
       "      <th>2000-01-31</th>\n",
       "      <td>2000-03-31</td>\n",
       "      <td>8.7</td>\n",
       "      <td>NaN</td>\n",
       "    </tr>\n",
       "    <tr>\n",
       "      <th>2000-02-29</th>\n",
       "      <td>2000-03-31</td>\n",
       "      <td>8.7</td>\n",
       "      <td>NaN</td>\n",
       "    </tr>\n",
       "    <tr>\n",
       "      <th>2000-03-31</th>\n",
       "      <td>2000-03-31</td>\n",
       "      <td>8.7</td>\n",
       "      <td>NaN</td>\n",
       "    </tr>\n",
       "    <tr>\n",
       "      <th>2000-04-30</th>\n",
       "      <td>2000-06-30</td>\n",
       "      <td>8.9</td>\n",
       "      <td>NaN</td>\n",
       "    </tr>\n",
       "    <tr>\n",
       "      <th>2000-05-31</th>\n",
       "      <td>2000-06-30</td>\n",
       "      <td>8.9</td>\n",
       "      <td>NaN</td>\n",
       "    </tr>\n",
       "    <tr>\n",
       "      <th>...</th>\n",
       "      <td>...</td>\n",
       "      <td>...</td>\n",
       "      <td>...</td>\n",
       "    </tr>\n",
       "    <tr>\n",
       "      <th>2023-06-30</th>\n",
       "      <td>2023-06-30</td>\n",
       "      <td>5.5</td>\n",
       "      <td>6.180000</td>\n",
       "    </tr>\n",
       "    <tr>\n",
       "      <th>2023-07-31</th>\n",
       "      <td>2023-09-30</td>\n",
       "      <td>5.2</td>\n",
       "      <td>6.158034</td>\n",
       "    </tr>\n",
       "    <tr>\n",
       "      <th>2023-08-31</th>\n",
       "      <td>2023-09-30</td>\n",
       "      <td>5.2</td>\n",
       "      <td>6.136068</td>\n",
       "    </tr>\n",
       "    <tr>\n",
       "      <th>2023-09-30</th>\n",
       "      <td>2023-09-30</td>\n",
       "      <td>5.2</td>\n",
       "      <td>6.114103</td>\n",
       "    </tr>\n",
       "    <tr>\n",
       "      <th>2023-10-31</th>\n",
       "      <td>NaN</td>\n",
       "      <td>NaN</td>\n",
       "      <td>NaN</td>\n",
       "    </tr>\n",
       "  </tbody>\n",
       "</table>\n",
       "<p>286 rows × 3 columns</p>\n",
       "</div>"
      ],
      "text/plain": [
       "           final_gdp_date  GDP_CYOY  benchmark\n",
       "DATE                                          \n",
       "2000-01-31     2000-03-31       8.7        NaN\n",
       "2000-02-29     2000-03-31       8.7        NaN\n",
       "2000-03-31     2000-03-31       8.7        NaN\n",
       "2000-04-30     2000-06-30       8.9        NaN\n",
       "2000-05-31     2000-06-30       8.9        NaN\n",
       "...                   ...       ...        ...\n",
       "2023-06-30     2023-06-30       5.5   6.180000\n",
       "2023-07-31     2023-09-30       5.2   6.158034\n",
       "2023-08-31     2023-09-30       5.2   6.136068\n",
       "2023-09-30     2023-09-30       5.2   6.114103\n",
       "2023-10-31            NaN       NaN        NaN\n",
       "\n",
       "[286 rows x 3 columns]"
      ]
     },
     "execution_count": 208,
     "metadata": {},
     "output_type": "execute_result"
    }
   ],
   "source": [
    "df_result"
   ]
  },
  {
   "cell_type": "code",
   "execution_count": 209,
   "metadata": {},
   "outputs": [
    {
     "data": {
      "text/plain": [
       "<Axes: xlabel='DATE'>"
      ]
     },
     "execution_count": 209,
     "metadata": {},
     "output_type": "execute_result"
    },
    {
     "data": {
      "image/png": "[encoded data removed]",
      "text/plain": [
       "<Figure size 1500x400 with 1 Axes>"
      ]
     },
     "metadata": {},
     "output_type": "display_data"
    }
   ],
   "source": [
    "df_result[['GDP_CYOY','benchmark']].loc['2006-1-31':].plot(figsize=(15,4), style=['--','-'])"
   ]
  },
  {
   "cell_type": "markdown",
   "metadata": {},
   "source": [
    "## (1) Use MIDAS with two indicators on a rolling basis"
   ]
  },
  {
   "cell_type": "markdown",
   "metadata": {},
   "source": [
    "Both two indicators use lags of 3 months."
   ]
  },
  {
   "cell_type": "code",
   "execution_count": 210,
   "metadata": {
    "collapsed": true
   },
   "outputs": [
    {
     "name": "stderr",
     "output_type": "stream",
     "text": [
      "c:\\Users\\GUO\\hello\\.venv\\midas_pro\\example\\midas\\adl.py:100: FutureWarning: `rcond` parameter will change to the default of machine precision times ``max(M, N)`` where M and N are the input matrix dimensions.\n",
      "To use the future default and silence this warning we advise to pass `rcond=None`, to keep using the old, explicitly pass `rcond=-1`.\n",
      "  c = np.linalg.lstsq(np.concatenate([np.ones((len(xw1), 1)), xw1.reshape((len(xw1), 1)), xw2.reshape((len(xw2), 1))], axis=1), y)[0]\n"
     ]
    }
   ],
   "source": [
    "# n=3, ylag=0, method='rolling'\n",
    "df_fc1, rmse1=forecast_all(gdp.GDP_CYOY, ip.IP_YOY,lei.LEI_YOY, start_date, end_date, \n",
    "                           x1lag='3m',x2lag='3m', ylag=0, n=3, forecast_horizon=1, \n",
    "                           poly1='expalmon', poly2='expalmon', method='rolling')"
   ]
  },
  {
   "cell_type": "code",
   "execution_count": 211,
   "metadata": {},
   "outputs": [
    {
     "data": {
      "text/plain": [
       "[3.8736517489191575, 3.8736517489191575, 3.873143370049401]"
      ]
     },
     "execution_count": 211,
     "metadata": {},
     "output_type": "execute_result"
    }
   ],
   "source": [
    "rmse1"
   ]
  },
  {
   "cell_type": "code",
   "execution_count": 212,
   "metadata": {
    "collapsed": true
   },
   "outputs": [],
   "source": [
    "# Store forecast results in df_result\n",
    "df_result1=store_gdp(df_fc1[0],df_fc1[1],df_fc1[2],df_result)"
   ]
  },
  {
   "cell_type": "code",
   "execution_count": 213,
   "metadata": {
    "scrolled": true
   },
   "outputs": [
    {
     "data": {
      "text/html": [
       "<div>\n",
       "<style scoped>\n",
       "    .dataframe tbody tr th:only-of-type {\n",
       "        vertical-align: middle;\n",
       "    }\n",
       "\n",
       "    .dataframe tbody tr th {\n",
       "        vertical-align: top;\n",
       "    }\n",
       "\n",
       "    .dataframe thead th {\n",
       "        text-align: right;\n",
       "    }\n",
       "</style>\n",
       "<table border=\"1\" class=\"dataframe\">\n",
       "  <thead>\n",
       "    <tr style=\"text-align: right;\">\n",
       "      <th></th>\n",
       "      <th>final_gdp_date</th>\n",
       "      <th>GDP_CYOY</th>\n",
       "      <th>benchmark</th>\n",
       "      <th>forecast_gdp</th>\n",
       "    </tr>\n",
       "    <tr>\n",
       "      <th>DATE</th>\n",
       "      <th></th>\n",
       "      <th></th>\n",
       "      <th></th>\n",
       "      <th></th>\n",
       "    </tr>\n",
       "  </thead>\n",
       "  <tbody>\n",
       "    <tr>\n",
       "      <th>2010-01-31</th>\n",
       "      <td>2010-03-31</td>\n",
       "      <td>12.2</td>\n",
       "      <td>10.505128</td>\n",
       "      <td>10.518421</td>\n",
       "    </tr>\n",
       "    <tr>\n",
       "      <th>2010-02-28</th>\n",
       "      <td>2010-03-31</td>\n",
       "      <td>12.2</td>\n",
       "      <td>10.533333</td>\n",
       "      <td>10.476923</td>\n",
       "    </tr>\n",
       "    <tr>\n",
       "      <th>2010-03-31</th>\n",
       "      <td>2010-03-31</td>\n",
       "      <td>12.2</td>\n",
       "      <td>10.561538</td>\n",
       "      <td>10.476923</td>\n",
       "    </tr>\n",
       "    <tr>\n",
       "      <th>2010-04-30</th>\n",
       "      <td>2010-06-30</td>\n",
       "      <td>11.4</td>\n",
       "      <td>10.582906</td>\n",
       "      <td>10.561538</td>\n",
       "    </tr>\n",
       "    <tr>\n",
       "      <th>2010-05-31</th>\n",
       "      <td>2010-06-30</td>\n",
       "      <td>11.4</td>\n",
       "      <td>10.604274</td>\n",
       "      <td>10.520000</td>\n",
       "    </tr>\n",
       "    <tr>\n",
       "      <th>...</th>\n",
       "      <td>...</td>\n",
       "      <td>...</td>\n",
       "      <td>...</td>\n",
       "      <td>...</td>\n",
       "    </tr>\n",
       "    <tr>\n",
       "      <th>2023-06-30</th>\n",
       "      <td>2023-06-30</td>\n",
       "      <td>5.5</td>\n",
       "      <td>6.180000</td>\n",
       "      <td>6.275500</td>\n",
       "    </tr>\n",
       "    <tr>\n",
       "      <th>2023-07-31</th>\n",
       "      <td>2023-09-30</td>\n",
       "      <td>5.2</td>\n",
       "      <td>6.158034</td>\n",
       "      <td>0.000000</td>\n",
       "    </tr>\n",
       "    <tr>\n",
       "      <th>2023-08-31</th>\n",
       "      <td>2023-09-30</td>\n",
       "      <td>5.2</td>\n",
       "      <td>6.136068</td>\n",
       "      <td>0.000000</td>\n",
       "    </tr>\n",
       "    <tr>\n",
       "      <th>2023-09-30</th>\n",
       "      <td>2023-09-30</td>\n",
       "      <td>5.2</td>\n",
       "      <td>6.114103</td>\n",
       "      <td>0.000000</td>\n",
       "    </tr>\n",
       "    <tr>\n",
       "      <th>2023-10-31</th>\n",
       "      <td>0</td>\n",
       "      <td>0.0</td>\n",
       "      <td>0.000000</td>\n",
       "      <td>0.000000</td>\n",
       "    </tr>\n",
       "  </tbody>\n",
       "</table>\n",
       "<p>166 rows × 4 columns</p>\n",
       "</div>"
      ],
      "text/plain": [
       "           final_gdp_date  GDP_CYOY  benchmark  forecast_gdp\n",
       "DATE                                                        \n",
       "2010-01-31     2010-03-31      12.2  10.505128     10.518421\n",
       "2010-02-28     2010-03-31      12.2  10.533333     10.476923\n",
       "2010-03-31     2010-03-31      12.2  10.561538     10.476923\n",
       "2010-04-30     2010-06-30      11.4  10.582906     10.561538\n",
       "2010-05-31     2010-06-30      11.4  10.604274     10.520000\n",
       "...                   ...       ...        ...           ...\n",
       "2023-06-30     2023-06-30       5.5   6.180000      6.275500\n",
       "2023-07-31     2023-09-30       5.2   6.158034      0.000000\n",
       "2023-08-31     2023-09-30       5.2   6.136068      0.000000\n",
       "2023-09-30     2023-09-30       5.2   6.114103      0.000000\n",
       "2023-10-31              0       0.0   0.000000      0.000000\n",
       "\n",
       "[166 rows x 4 columns]"
      ]
     },
     "execution_count": 213,
     "metadata": {},
     "output_type": "execute_result"
    }
   ],
   "source": [
    "# Forecast results\n",
    "df_result1.iloc[df_result1.index.get_loc(end_date)+1:]"
   ]
  },
  {
   "cell_type": "code",
   "execution_count": 214,
   "metadata": {},
   "outputs": [
    {
     "data": {
      "text/plain": [
       "<Axes: xlabel='DATE'>"
      ]
     },
     "execution_count": 214,
     "metadata": {},
     "output_type": "execute_result"
    },
    {
     "data": {
      "image/png": "[encoded data removed]",
      "text/plain": [
       "<Figure size 1500x400 with 1 Axes>"
      ]
     },
     "metadata": {},
     "output_type": "display_data"
    }
   ],
   "source": [
    "df_result1[['GDP_CYOY','benchmark', 'forecast_gdp']].loc['2013-1-31':].plot(figsize=(15,4), style=['--','-', '--'])"
   ]
  },
  {
   "cell_type": "markdown",
   "metadata": {},
   "source": [
    "## Measure forecast accuracy"
   ]
  },
  {
   "cell_type": "markdown",
   "metadata": {},
   "source": [
    "We use relative MSE as a measure of accuracy. Relative MSE is defined as MSE of MIDAS divided by the MSE of the benchmark forecast. The benchmark forecast is the in-sample mean of GDP growth recomputed every recursion."
   ]
  },
  {
   "cell_type": "code",
   "execution_count": 215,
   "metadata": {
    "scrolled": true
   },
   "outputs": [
    {
     "data": {
      "text/plain": [
       "1.052555463124857"
      ]
     },
     "execution_count": 215,
     "metadata": {},
     "output_type": "execute_result"
    }
   ],
   "source": [
    "temp=df_result1[df_result1['forecast_gdp']!=0]\n",
    "relative_mse=((temp['GDP_CYOY']-temp['forecast_gdp'])**2).mean()/((temp['GDP_CYOY']-temp['benchmark'])**2).mean()\n",
    "relative_mse"
   ]
  },
  {
   "cell_type": "markdown",
   "metadata": {
    "collapsed": true
   },
   "source": [
    "## (2) Use MIDAS with two indicators on a recursive basis"
   ]
  },
  {
   "cell_type": "code",
   "execution_count": 216,
   "metadata": {
    "collapsed": true
   },
   "outputs": [
    {
     "name": "stderr",
     "output_type": "stream",
     "text": [
      "c:\\Users\\GUO\\hello\\.venv\\midas_pro\\example\\midas\\adl.py:100: FutureWarning: `rcond` parameter will change to the default of machine precision times ``max(M, N)`` where M and N are the input matrix dimensions.\n",
      "To use the future default and silence this warning we advise to pass `rcond=None`, to keep using the old, explicitly pass `rcond=-1`.\n",
      "  c = np.linalg.lstsq(np.concatenate([np.ones((len(xw1), 1)), xw1.reshape((len(xw1), 1)), xw2.reshape((len(xw2), 1))], axis=1), y)[0]\n"
     ]
    }
   ],
   "source": [
    "# n=3, ylag=0, method='recursive'\n",
    "df_fc2, rmse2=forecast_all(gdp.GDP_CYOY, ip.IP_YOY,lei.LEI_YOY, start_date, end_date, \n",
    "                           x1lag='3m',x2lag='3m', ylag=0, n=3, forecast_horizon=1, \n",
    "                           poly1='expalmon', poly2='expalmon', method='recursive')"
   ]
  },
  {
   "cell_type": "code",
   "execution_count": 217,
   "metadata": {},
   "outputs": [
    {
     "data": {
      "text/plain": [
       "[4.261773743263676, 4.261773743263676, 4.267419520844364]"
      ]
     },
     "execution_count": 217,
     "metadata": {},
     "output_type": "execute_result"
    }
   ],
   "source": [
    "rmse2"
   ]
  },
  {
   "cell_type": "code",
   "execution_count": 218,
   "metadata": {
    "collapsed": true
   },
   "outputs": [],
   "source": [
    "# Store forecast results in df_result\n",
    "df_result2=store_gdp(df_fc2[0],df_fc2[1],df_fc2[2],df_result)"
   ]
  },
  {
   "cell_type": "code",
   "execution_count": 219,
   "metadata": {
    "scrolled": true
   },
   "outputs": [
    {
     "data": {
      "text/html": [
       "<div>\n",
       "<style scoped>\n",
       "    .dataframe tbody tr th:only-of-type {\n",
       "        vertical-align: middle;\n",
       "    }\n",
       "\n",
       "    .dataframe tbody tr th {\n",
       "        vertical-align: top;\n",
       "    }\n",
       "\n",
       "    .dataframe thead th {\n",
       "        text-align: right;\n",
       "    }\n",
       "</style>\n",
       "<table border=\"1\" class=\"dataframe\">\n",
       "  <thead>\n",
       "    <tr style=\"text-align: right;\">\n",
       "      <th></th>\n",
       "      <th>final_gdp_date</th>\n",
       "      <th>GDP_CYOY</th>\n",
       "      <th>benchmark</th>\n",
       "      <th>forecast_gdp</th>\n",
       "    </tr>\n",
       "    <tr>\n",
       "      <th>DATE</th>\n",
       "      <th></th>\n",
       "      <th></th>\n",
       "      <th></th>\n",
       "      <th></th>\n",
       "    </tr>\n",
       "  </thead>\n",
       "  <tbody>\n",
       "    <tr>\n",
       "      <th>2010-01-31</th>\n",
       "      <td>2010-03-31</td>\n",
       "      <td>12.2</td>\n",
       "      <td>10.505128</td>\n",
       "      <td>10.518421</td>\n",
       "    </tr>\n",
       "    <tr>\n",
       "      <th>2010-02-28</th>\n",
       "      <td>2010-03-31</td>\n",
       "      <td>12.2</td>\n",
       "      <td>10.533333</td>\n",
       "      <td>10.476923</td>\n",
       "    </tr>\n",
       "    <tr>\n",
       "      <th>2010-03-31</th>\n",
       "      <td>2010-03-31</td>\n",
       "      <td>12.2</td>\n",
       "      <td>10.561538</td>\n",
       "      <td>10.476923</td>\n",
       "    </tr>\n",
       "    <tr>\n",
       "      <th>2010-04-30</th>\n",
       "      <td>2010-06-30</td>\n",
       "      <td>11.4</td>\n",
       "      <td>10.582906</td>\n",
       "      <td>10.561538</td>\n",
       "    </tr>\n",
       "    <tr>\n",
       "      <th>2010-05-31</th>\n",
       "      <td>2010-06-30</td>\n",
       "      <td>11.4</td>\n",
       "      <td>10.604274</td>\n",
       "      <td>10.520000</td>\n",
       "    </tr>\n",
       "    <tr>\n",
       "      <th>...</th>\n",
       "      <td>...</td>\n",
       "      <td>...</td>\n",
       "      <td>...</td>\n",
       "      <td>...</td>\n",
       "    </tr>\n",
       "    <tr>\n",
       "      <th>2023-06-30</th>\n",
       "      <td>2023-06-30</td>\n",
       "      <td>5.5</td>\n",
       "      <td>6.180000</td>\n",
       "      <td>8.522500</td>\n",
       "    </tr>\n",
       "    <tr>\n",
       "      <th>2023-07-31</th>\n",
       "      <td>2023-09-30</td>\n",
       "      <td>5.2</td>\n",
       "      <td>6.158034</td>\n",
       "      <td>0.000000</td>\n",
       "    </tr>\n",
       "    <tr>\n",
       "      <th>2023-08-31</th>\n",
       "      <td>2023-09-30</td>\n",
       "      <td>5.2</td>\n",
       "      <td>6.136068</td>\n",
       "      <td>0.000000</td>\n",
       "    </tr>\n",
       "    <tr>\n",
       "      <th>2023-09-30</th>\n",
       "      <td>2023-09-30</td>\n",
       "      <td>5.2</td>\n",
       "      <td>6.114103</td>\n",
       "      <td>0.000000</td>\n",
       "    </tr>\n",
       "    <tr>\n",
       "      <th>2023-10-31</th>\n",
       "      <td>0</td>\n",
       "      <td>0.0</td>\n",
       "      <td>0.000000</td>\n",
       "      <td>0.000000</td>\n",
       "    </tr>\n",
       "  </tbody>\n",
       "</table>\n",
       "<p>166 rows × 4 columns</p>\n",
       "</div>"
      ],
      "text/plain": [
       "           final_gdp_date  GDP_CYOY  benchmark  forecast_gdp\n",
       "DATE                                                        \n",
       "2010-01-31     2010-03-31      12.2  10.505128     10.518421\n",
       "2010-02-28     2010-03-31      12.2  10.533333     10.476923\n",
       "2010-03-31     2010-03-31      12.2  10.561538     10.476923\n",
       "2010-04-30     2010-06-30      11.4  10.582906     10.561538\n",
       "2010-05-31     2010-06-30      11.4  10.604274     10.520000\n",
       "...                   ...       ...        ...           ...\n",
       "2023-06-30     2023-06-30       5.5   6.180000      8.522500\n",
       "2023-07-31     2023-09-30       5.2   6.158034      0.000000\n",
       "2023-08-31     2023-09-30       5.2   6.136068      0.000000\n",
       "2023-09-30     2023-09-30       5.2   6.114103      0.000000\n",
       "2023-10-31              0       0.0   0.000000      0.000000\n",
       "\n",
       "[166 rows x 4 columns]"
      ]
     },
     "execution_count": 219,
     "metadata": {},
     "output_type": "execute_result"
    }
   ],
   "source": [
    "df_result2.iloc[df_result2.index.get_loc(end_date)+1:]"
   ]
  },
  {
   "cell_type": "code",
   "execution_count": 220,
   "metadata": {},
   "outputs": [
    {
     "data": {
      "text/plain": [
       "1.2752820771431137"
      ]
     },
     "execution_count": 220,
     "metadata": {},
     "output_type": "execute_result"
    }
   ],
   "source": [
    "# Measure forecast accuracy\n",
    "temp2=df_result2[df_result2['forecast_gdp']!=0]\n",
    "relative_mse2=((temp2['GDP_CYOY']-temp2['forecast_gdp'])**2).mean()/((temp2['GDP_CYOY']-temp2['benchmark'])**2).mean()\n",
    "relative_mse2"
   ]
  },
  {
   "cell_type": "code",
   "execution_count": 221,
   "metadata": {},
   "outputs": [
    {
     "data": {
      "text/plain": [
       "<Axes: xlabel='DATE'>"
      ]
     },
     "execution_count": 221,
     "metadata": {},
     "output_type": "execute_result"
    },
    {
     "data": {
      "image/png": "[encoded data removed]",
      "text/plain": [
       "<Figure size 1500x400 with 1 Axes>"
      ]
     },
     "metadata": {},
     "output_type": "display_data"
    }
   ],
   "source": [
    "df_result2[['GDP_CYOY','benchmark', 'forecast_gdp']].loc['2013-1-31':].plot(figsize=(15,4), style=['--','-', '--'])"
   ]
  },
  {
   "cell_type": "markdown",
   "metadata": {},
   "source": [
    "## (3) Use autoregressive MIDAS with two indicators on a rolling basis"
   ]
  },
  {
   "cell_type": "code",
   "execution_count": 222,
   "metadata": {
    "collapsed": true
   },
   "outputs": [
    {
     "name": "stderr",
     "output_type": "stream",
     "text": [
      "c:\\Users\\GUO\\hello\\.venv\\midas_pro\\example\\midas\\adl.py:85: FutureWarning: `rcond` parameter will change to the default of machine precision times ``max(M, N)`` where M and N are the input matrix dimensions.\n",
      "To use the future default and silence this warning we advise to pass `rcond=None`, to keep using the old, explicitly pass `rcond=-1`.\n",
      "  c = np.linalg.lstsq(np.concatenate([np.ones((len(xw1), 1)), xw1.reshape((len(xw1), 1)), xw2.reshape((len(xw2), 1)), yl], axis=1), y)[0]\n"
     ]
    }
   ],
   "source": [
    "# n=3, ylag=1, method='rolling'\n",
    "df_fc3, rmse3=forecast_all(gdp.GDP_CYOY, ip.IP_YOY, lei.LEI_YOY, start_date, end_date, \n",
    "                           x1lag='3m',x2lag='3m', ylag=1, n=3, forecast_horizon=1, \n",
    "                           poly1='expalmon', poly2='expalmon', method='rolling')"
   ]
  },
  {
   "cell_type": "code",
   "execution_count": 223,
   "metadata": {},
   "outputs": [
    {
     "data": {
      "text/plain": [
       "[3.0584119106756904, 3.0584119106756904, 3.0584119106756904]"
      ]
     },
     "execution_count": 223,
     "metadata": {},
     "output_type": "execute_result"
    }
   ],
   "source": [
    "rmse3"
   ]
  },
  {
   "cell_type": "code",
   "execution_count": 224,
   "metadata": {
    "collapsed": true
   },
   "outputs": [],
   "source": [
    "# Store forecast results in df_result\n",
    "df_result3=store_gdp(df_fc3[0],df_fc3[1],df_fc3[2],df_result)"
   ]
  },
  {
   "cell_type": "code",
   "execution_count": 225,
   "metadata": {
    "scrolled": true
   },
   "outputs": [
    {
     "data": {
      "text/html": [
       "<div>\n",
       "<style scoped>\n",
       "    .dataframe tbody tr th:only-of-type {\n",
       "        vertical-align: middle;\n",
       "    }\n",
       "\n",
       "    .dataframe tbody tr th {\n",
       "        vertical-align: top;\n",
       "    }\n",
       "\n",
       "    .dataframe thead th {\n",
       "        text-align: right;\n",
       "    }\n",
       "</style>\n",
       "<table border=\"1\" class=\"dataframe\">\n",
       "  <thead>\n",
       "    <tr style=\"text-align: right;\">\n",
       "      <th></th>\n",
       "      <th>final_gdp_date</th>\n",
       "      <th>GDP_CYOY</th>\n",
       "      <th>benchmark</th>\n",
       "      <th>forecast_gdp</th>\n",
       "    </tr>\n",
       "    <tr>\n",
       "      <th>DATE</th>\n",
       "      <th></th>\n",
       "      <th></th>\n",
       "      <th></th>\n",
       "      <th></th>\n",
       "    </tr>\n",
       "  </thead>\n",
       "  <tbody>\n",
       "    <tr>\n",
       "      <th>2010-01-31</th>\n",
       "      <td>2010-03-31</td>\n",
       "      <td>12.2</td>\n",
       "      <td>10.505128</td>\n",
       "      <td>9.552092</td>\n",
       "    </tr>\n",
       "    <tr>\n",
       "      <th>2010-02-28</th>\n",
       "      <td>2010-03-31</td>\n",
       "      <td>12.2</td>\n",
       "      <td>10.533333</td>\n",
       "      <td>9.552092</td>\n",
       "    </tr>\n",
       "    <tr>\n",
       "      <th>2010-03-31</th>\n",
       "      <td>2010-03-31</td>\n",
       "      <td>12.2</td>\n",
       "      <td>10.561538</td>\n",
       "      <td>9.552092</td>\n",
       "    </tr>\n",
       "    <tr>\n",
       "      <th>2010-04-30</th>\n",
       "      <td>2010-06-30</td>\n",
       "      <td>11.4</td>\n",
       "      <td>10.582906</td>\n",
       "      <td>12.030573</td>\n",
       "    </tr>\n",
       "    <tr>\n",
       "      <th>2010-05-31</th>\n",
       "      <td>2010-06-30</td>\n",
       "      <td>11.4</td>\n",
       "      <td>10.604274</td>\n",
       "      <td>12.030573</td>\n",
       "    </tr>\n",
       "    <tr>\n",
       "      <th>...</th>\n",
       "      <td>...</td>\n",
       "      <td>...</td>\n",
       "      <td>...</td>\n",
       "      <td>...</td>\n",
       "    </tr>\n",
       "    <tr>\n",
       "      <th>2023-06-30</th>\n",
       "      <td>2023-06-30</td>\n",
       "      <td>5.5</td>\n",
       "      <td>6.180000</td>\n",
       "      <td>5.296173</td>\n",
       "    </tr>\n",
       "    <tr>\n",
       "      <th>2023-07-31</th>\n",
       "      <td>2023-09-30</td>\n",
       "      <td>5.2</td>\n",
       "      <td>6.158034</td>\n",
       "      <td>0.000000</td>\n",
       "    </tr>\n",
       "    <tr>\n",
       "      <th>2023-08-31</th>\n",
       "      <td>2023-09-30</td>\n",
       "      <td>5.2</td>\n",
       "      <td>6.136068</td>\n",
       "      <td>0.000000</td>\n",
       "    </tr>\n",
       "    <tr>\n",
       "      <th>2023-09-30</th>\n",
       "      <td>2023-09-30</td>\n",
       "      <td>5.2</td>\n",
       "      <td>6.114103</td>\n",
       "      <td>0.000000</td>\n",
       "    </tr>\n",
       "    <tr>\n",
       "      <th>2023-10-31</th>\n",
       "      <td>0</td>\n",
       "      <td>0.0</td>\n",
       "      <td>0.000000</td>\n",
       "      <td>0.000000</td>\n",
       "    </tr>\n",
       "  </tbody>\n",
       "</table>\n",
       "<p>166 rows × 4 columns</p>\n",
       "</div>"
      ],
      "text/plain": [
       "           final_gdp_date  GDP_CYOY  benchmark  forecast_gdp\n",
       "DATE                                                        \n",
       "2010-01-31     2010-03-31      12.2  10.505128      9.552092\n",
       "2010-02-28     2010-03-31      12.2  10.533333      9.552092\n",
       "2010-03-31     2010-03-31      12.2  10.561538      9.552092\n",
       "2010-04-30     2010-06-30      11.4  10.582906     12.030573\n",
       "2010-05-31     2010-06-30      11.4  10.604274     12.030573\n",
       "...                   ...       ...        ...           ...\n",
       "2023-06-30     2023-06-30       5.5   6.180000      5.296173\n",
       "2023-07-31     2023-09-30       5.2   6.158034      0.000000\n",
       "2023-08-31     2023-09-30       5.2   6.136068      0.000000\n",
       "2023-09-30     2023-09-30       5.2   6.114103      0.000000\n",
       "2023-10-31              0       0.0   0.000000      0.000000\n",
       "\n",
       "[166 rows x 4 columns]"
      ]
     },
     "execution_count": 225,
     "metadata": {},
     "output_type": "execute_result"
    }
   ],
   "source": [
    "df_result3.iloc[df_result3.index.get_loc(end_date)+1:]"
   ]
  },
  {
   "cell_type": "code",
   "execution_count": 226,
   "metadata": {},
   "outputs": [
    {
     "data": {
      "text/plain": [
       "0.6561963215968745"
      ]
     },
     "execution_count": 226,
     "metadata": {},
     "output_type": "execute_result"
    }
   ],
   "source": [
    "# Measure forecast accuracy\n",
    "temp3=df_result3[df_result3['forecast_gdp']!=0]\n",
    "relative_mse3=((temp3['GDP_CYOY']-temp3['forecast_gdp'])**2).mean()/((temp3['GDP_CYOY']-temp3['benchmark'])**2).mean()\n",
    "relative_mse3"
   ]
  },
  {
   "cell_type": "code",
   "execution_count": 227,
   "metadata": {},
   "outputs": [
    {
     "data": {
      "text/plain": [
       "<Axes: xlabel='DATE'>"
      ]
     },
     "execution_count": 227,
     "metadata": {},
     "output_type": "execute_result"
    },
    {
     "data": {
      "image/png": "[encoded data removed]",
      "text/plain": [
       "<Figure size 1500x400 with 1 Axes>"
      ]
     },
     "metadata": {},
     "output_type": "display_data"
    }
   ],
   "source": [
    "df_result3[['GDP_CYOY','benchmark', 'forecast_gdp']].loc['2006-1-31':].plot(figsize=(15,4), style=['--','-', '--'])"
   ]
  },
  {
   "cell_type": "markdown",
   "metadata": {},
   "source": [
    "## (4) Use autoregressive MIDAS with two indicators on a recursive basis"
   ]
  },
  {
   "cell_type": "code",
   "execution_count": 228,
   "metadata": {
    "collapsed": true
   },
   "outputs": [
    {
     "name": "stderr",
     "output_type": "stream",
     "text": [
      "c:\\Users\\GUO\\hello\\.venv\\midas_pro\\example\\midas\\adl.py:85: FutureWarning: `rcond` parameter will change to the default of machine precision times ``max(M, N)`` where M and N are the input matrix dimensions.\n",
      "To use the future default and silence this warning we advise to pass `rcond=None`, to keep using the old, explicitly pass `rcond=-1`.\n",
      "  c = np.linalg.lstsq(np.concatenate([np.ones((len(xw1), 1)), xw1.reshape((len(xw1), 1)), xw2.reshape((len(xw2), 1)), yl], axis=1), y)[0]\n"
     ]
    }
   ],
   "source": [
    "# n=3, ylag=1, method='recursive'\n",
    "df_fc4, rmse4=forecast_all(gdp.GDP_CYOY, ip.IP_YOY, lei.LEI_YOY, start_date, end_date, \n",
    "                           x1lag=0,x2lag=0, ylag=1, n=3, forecast_horizon=1, \n",
    "                           poly1='expalmon', poly2='expalmon', method='recursive')"
   ]
  },
  {
   "cell_type": "code",
   "execution_count": 229,
   "metadata": {},
   "outputs": [
    {
     "data": {
      "text/plain": [
       "[1.6529464896639632, 3.094524213378502, 3.094524213378502]"
      ]
     },
     "execution_count": 229,
     "metadata": {},
     "output_type": "execute_result"
    }
   ],
   "source": [
    "rmse4"
   ]
  },
  {
   "cell_type": "code",
   "execution_count": 230,
   "metadata": {
    "collapsed": true
   },
   "outputs": [],
   "source": [
    "# Store forecast results in df_result\n",
    "df_result4=store_gdp(df_fc4[0],df_fc4[1],df_fc4[2],df_result)"
   ]
  },
  {
   "cell_type": "code",
   "execution_count": 231,
   "metadata": {
    "scrolled": true
   },
   "outputs": [
    {
     "data": {
      "text/html": [
       "<div>\n",
       "<style scoped>\n",
       "    .dataframe tbody tr th:only-of-type {\n",
       "        vertical-align: middle;\n",
       "    }\n",
       "\n",
       "    .dataframe tbody tr th {\n",
       "        vertical-align: top;\n",
       "    }\n",
       "\n",
       "    .dataframe thead th {\n",
       "        text-align: right;\n",
       "    }\n",
       "</style>\n",
       "<table border=\"1\" class=\"dataframe\">\n",
       "  <thead>\n",
       "    <tr style=\"text-align: right;\">\n",
       "      <th></th>\n",
       "      <th>final_gdp_date</th>\n",
       "      <th>GDP_CYOY</th>\n",
       "      <th>benchmark</th>\n",
       "      <th>forecast_gdp</th>\n",
       "    </tr>\n",
       "    <tr>\n",
       "      <th>DATE</th>\n",
       "      <th></th>\n",
       "      <th></th>\n",
       "      <th></th>\n",
       "      <th></th>\n",
       "    </tr>\n",
       "  </thead>\n",
       "  <tbody>\n",
       "    <tr>\n",
       "      <th>2010-01-31</th>\n",
       "      <td>2010-03-31</td>\n",
       "      <td>12.2</td>\n",
       "      <td>10.505128</td>\n",
       "      <td>9.552092</td>\n",
       "    </tr>\n",
       "    <tr>\n",
       "      <th>2010-02-28</th>\n",
       "      <td>2010-03-31</td>\n",
       "      <td>12.2</td>\n",
       "      <td>10.533333</td>\n",
       "      <td>9.552092</td>\n",
       "    </tr>\n",
       "    <tr>\n",
       "      <th>2010-03-31</th>\n",
       "      <td>2010-03-31</td>\n",
       "      <td>12.2</td>\n",
       "      <td>10.561538</td>\n",
       "      <td>11.387820</td>\n",
       "    </tr>\n",
       "    <tr>\n",
       "      <th>2010-04-30</th>\n",
       "      <td>2010-06-30</td>\n",
       "      <td>11.4</td>\n",
       "      <td>10.582906</td>\n",
       "      <td>12.030573</td>\n",
       "    </tr>\n",
       "    <tr>\n",
       "      <th>2010-05-31</th>\n",
       "      <td>2010-06-30</td>\n",
       "      <td>11.4</td>\n",
       "      <td>10.604274</td>\n",
       "      <td>12.030573</td>\n",
       "    </tr>\n",
       "    <tr>\n",
       "      <th>...</th>\n",
       "      <td>...</td>\n",
       "      <td>...</td>\n",
       "      <td>...</td>\n",
       "      <td>...</td>\n",
       "    </tr>\n",
       "    <tr>\n",
       "      <th>2023-06-30</th>\n",
       "      <td>2023-06-30</td>\n",
       "      <td>5.5</td>\n",
       "      <td>6.180000</td>\n",
       "      <td>4.241820</td>\n",
       "    </tr>\n",
       "    <tr>\n",
       "      <th>2023-07-31</th>\n",
       "      <td>2023-09-30</td>\n",
       "      <td>5.2</td>\n",
       "      <td>6.158034</td>\n",
       "      <td>0.000000</td>\n",
       "    </tr>\n",
       "    <tr>\n",
       "      <th>2023-08-31</th>\n",
       "      <td>2023-09-30</td>\n",
       "      <td>5.2</td>\n",
       "      <td>6.136068</td>\n",
       "      <td>0.000000</td>\n",
       "    </tr>\n",
       "    <tr>\n",
       "      <th>2023-09-30</th>\n",
       "      <td>2023-09-30</td>\n",
       "      <td>5.2</td>\n",
       "      <td>6.114103</td>\n",
       "      <td>0.000000</td>\n",
       "    </tr>\n",
       "    <tr>\n",
       "      <th>2023-10-31</th>\n",
       "      <td>0</td>\n",
       "      <td>0.0</td>\n",
       "      <td>0.000000</td>\n",
       "      <td>0.000000</td>\n",
       "    </tr>\n",
       "  </tbody>\n",
       "</table>\n",
       "<p>166 rows × 4 columns</p>\n",
       "</div>"
      ],
      "text/plain": [
       "           final_gdp_date  GDP_CYOY  benchmark  forecast_gdp\n",
       "DATE                                                        \n",
       "2010-01-31     2010-03-31      12.2  10.505128      9.552092\n",
       "2010-02-28     2010-03-31      12.2  10.533333      9.552092\n",
       "2010-03-31     2010-03-31      12.2  10.561538     11.387820\n",
       "2010-04-30     2010-06-30      11.4  10.582906     12.030573\n",
       "2010-05-31     2010-06-30      11.4  10.604274     12.030573\n",
       "...                   ...       ...        ...           ...\n",
       "2023-06-30     2023-06-30       5.5   6.180000      4.241820\n",
       "2023-07-31     2023-09-30       5.2   6.158034      0.000000\n",
       "2023-08-31     2023-09-30       5.2   6.136068      0.000000\n",
       "2023-09-30     2023-09-30       5.2   6.114103      0.000000\n",
       "2023-10-31              0       0.0   0.000000      0.000000\n",
       "\n",
       "[166 rows x 4 columns]"
      ]
     },
     "execution_count": 231,
     "metadata": {},
     "output_type": "execute_result"
    }
   ],
   "source": [
    "# Forecast results\n",
    "df_result4.iloc[df_result4.index.get_loc(end_date)+1:]"
   ]
  },
  {
   "cell_type": "code",
   "execution_count": 232,
   "metadata": {},
   "outputs": [
    {
     "data": {
      "text/plain": [
       "0.5117467294198398"
      ]
     },
     "execution_count": 232,
     "metadata": {},
     "output_type": "execute_result"
    }
   ],
   "source": [
    "# Measure forecast accuracy\n",
    "temp4=df_result4[df_result4['forecast_gdp']!=0]\n",
    "relative_mse4=((temp4['GDP_CYOY']-temp4['forecast_gdp'])**2).mean()/((temp4['GDP_CYOY']-temp4['benchmark'])**2).mean()\n",
    "relative_mse4"
   ]
  },
  {
   "cell_type": "code",
   "execution_count": 246,
   "metadata": {},
   "outputs": [
    {
     "data": {
      "text/plain": [
       "<Axes: xlabel='DATE'>"
      ]
     },
     "execution_count": 246,
     "metadata": {},
     "output_type": "execute_result"
    },
    {
     "data": {
      "image/png": "[encoded data removed]",
      "text/plain": [
       "<Figure size 1500x400 with 1 Axes>"
      ]
     },
     "metadata": {},
     "output_type": "display_data"
    }
   ],
   "source": [
    "df_result4[['GDP_CYOY','benchmark', 'forecast_gdp']].loc['2010-3-31':].plot(figsize=(15,4), style=['.','-', '-'])"
   ]
  },
  {
   "cell_type": "code",
   "execution_count": 234,
   "metadata": {},
   "outputs": [],
   "source": [
    "df_result4.to_csv(r\"D:\\wind\\GDP_month.csv\")"
   ]
  },
  {
   "cell_type": "markdown",
   "metadata": {},
   "source": [
    "## (5) Use MIDAS with two indicators on a rolling basis (beta weights)"
   ]
  },
  {
   "cell_type": "code",
   "execution_count": 235,
   "metadata": {
    "collapsed": true
   },
   "outputs": [
    {
     "name": "stderr",
     "output_type": "stream",
     "text": [
      "c:\\Users\\GUO\\hello\\.venv\\midas_pro\\example\\midas\\adl.py:85: FutureWarning: `rcond` parameter will change to the default of machine precision times ``max(M, N)`` where M and N are the input matrix dimensions.\n",
      "To use the future default and silence this warning we advise to pass `rcond=None`, to keep using the old, explicitly pass `rcond=-1`.\n",
      "  c = np.linalg.lstsq(np.concatenate([np.ones((len(xw1), 1)), xw1.reshape((len(xw1), 1)), xw2.reshape((len(xw2), 1)), yl], axis=1), y)[0]\n"
     ]
    }
   ],
   "source": [
    "# n=3, ylag=0, method='rolling', beta\n",
    "df_fc5, rmse5=forecast_all(gdp.GDP_CYOY, ip.IP_YOY,lei.LEI_YOY, start_date, end_date, \n",
    "                           x1lag='3m',x2lag='3m', ylag=1, n=3, forecast_horizon=1, \n",
    "                           poly1='beta', poly2='beta', method='rolling')"
   ]
  },
  {
   "cell_type": "code",
   "execution_count": 236,
   "metadata": {
    "collapsed": true
   },
   "outputs": [],
   "source": [
    "# Store forecast results in df_result\n",
    "df_result5=store_gdp(df_fc5[0],df_fc5[1],df_fc5[2],df_result)"
   ]
  },
  {
   "cell_type": "code",
   "execution_count": 237,
   "metadata": {
    "scrolled": true
   },
   "outputs": [
    {
     "data": {
      "text/html": [
       "<div>\n",
       "<style scoped>\n",
       "    .dataframe tbody tr th:only-of-type {\n",
       "        vertical-align: middle;\n",
       "    }\n",
       "\n",
       "    .dataframe tbody tr th {\n",
       "        vertical-align: top;\n",
       "    }\n",
       "\n",
       "    .dataframe thead th {\n",
       "        text-align: right;\n",
       "    }\n",
       "</style>\n",
       "<table border=\"1\" class=\"dataframe\">\n",
       "  <thead>\n",
       "    <tr style=\"text-align: right;\">\n",
       "      <th></th>\n",
       "      <th>final_gdp_date</th>\n",
       "      <th>GDP_CYOY</th>\n",
       "      <th>benchmark</th>\n",
       "      <th>forecast_gdp</th>\n",
       "    </tr>\n",
       "    <tr>\n",
       "      <th>DATE</th>\n",
       "      <th></th>\n",
       "      <th></th>\n",
       "      <th></th>\n",
       "      <th></th>\n",
       "    </tr>\n",
       "  </thead>\n",
       "  <tbody>\n",
       "    <tr>\n",
       "      <th>2010-01-31</th>\n",
       "      <td>2010-03-31</td>\n",
       "      <td>12.2</td>\n",
       "      <td>10.505128</td>\n",
       "      <td>9.552092</td>\n",
       "    </tr>\n",
       "    <tr>\n",
       "      <th>2010-02-28</th>\n",
       "      <td>2010-03-31</td>\n",
       "      <td>12.2</td>\n",
       "      <td>10.533333</td>\n",
       "      <td>9.552092</td>\n",
       "    </tr>\n",
       "    <tr>\n",
       "      <th>2010-03-31</th>\n",
       "      <td>2010-03-31</td>\n",
       "      <td>12.2</td>\n",
       "      <td>10.561538</td>\n",
       "      <td>9.552092</td>\n",
       "    </tr>\n",
       "    <tr>\n",
       "      <th>2010-04-30</th>\n",
       "      <td>2010-06-30</td>\n",
       "      <td>11.4</td>\n",
       "      <td>10.582906</td>\n",
       "      <td>12.030573</td>\n",
       "    </tr>\n",
       "    <tr>\n",
       "      <th>2010-05-31</th>\n",
       "      <td>2010-06-30</td>\n",
       "      <td>11.4</td>\n",
       "      <td>10.604274</td>\n",
       "      <td>12.030573</td>\n",
       "    </tr>\n",
       "    <tr>\n",
       "      <th>...</th>\n",
       "      <td>...</td>\n",
       "      <td>...</td>\n",
       "      <td>...</td>\n",
       "      <td>...</td>\n",
       "    </tr>\n",
       "    <tr>\n",
       "      <th>2023-06-30</th>\n",
       "      <td>2023-06-30</td>\n",
       "      <td>5.5</td>\n",
       "      <td>6.180000</td>\n",
       "      <td>5.296173</td>\n",
       "    </tr>\n",
       "    <tr>\n",
       "      <th>2023-07-31</th>\n",
       "      <td>2023-09-30</td>\n",
       "      <td>5.2</td>\n",
       "      <td>6.158034</td>\n",
       "      <td>0.000000</td>\n",
       "    </tr>\n",
       "    <tr>\n",
       "      <th>2023-08-31</th>\n",
       "      <td>2023-09-30</td>\n",
       "      <td>5.2</td>\n",
       "      <td>6.136068</td>\n",
       "      <td>0.000000</td>\n",
       "    </tr>\n",
       "    <tr>\n",
       "      <th>2023-09-30</th>\n",
       "      <td>2023-09-30</td>\n",
       "      <td>5.2</td>\n",
       "      <td>6.114103</td>\n",
       "      <td>0.000000</td>\n",
       "    </tr>\n",
       "    <tr>\n",
       "      <th>2023-10-31</th>\n",
       "      <td>0</td>\n",
       "      <td>0.0</td>\n",
       "      <td>0.000000</td>\n",
       "      <td>0.000000</td>\n",
       "    </tr>\n",
       "  </tbody>\n",
       "</table>\n",
       "<p>166 rows × 4 columns</p>\n",
       "</div>"
      ],
      "text/plain": [
       "           final_gdp_date  GDP_CYOY  benchmark  forecast_gdp\n",
       "DATE                                                        \n",
       "2010-01-31     2010-03-31      12.2  10.505128      9.552092\n",
       "2010-02-28     2010-03-31      12.2  10.533333      9.552092\n",
       "2010-03-31     2010-03-31      12.2  10.561538      9.552092\n",
       "2010-04-30     2010-06-30      11.4  10.582906     12.030573\n",
       "2010-05-31     2010-06-30      11.4  10.604274     12.030573\n",
       "...                   ...       ...        ...           ...\n",
       "2023-06-30     2023-06-30       5.5   6.180000      5.296173\n",
       "2023-07-31     2023-09-30       5.2   6.158034      0.000000\n",
       "2023-08-31     2023-09-30       5.2   6.136068      0.000000\n",
       "2023-09-30     2023-09-30       5.2   6.114103      0.000000\n",
       "2023-10-31              0       0.0   0.000000      0.000000\n",
       "\n",
       "[166 rows x 4 columns]"
      ]
     },
     "execution_count": 237,
     "metadata": {},
     "output_type": "execute_result"
    }
   ],
   "source": [
    "# Forecast results\n",
    "df_result5.iloc[df_result5.index.get_loc(end_date)+1:]"
   ]
  },
  {
   "cell_type": "code",
   "execution_count": 238,
   "metadata": {},
   "outputs": [
    {
     "data": {
      "text/plain": [
       "0.6561963215968745"
      ]
     },
     "execution_count": 238,
     "metadata": {},
     "output_type": "execute_result"
    }
   ],
   "source": [
    "temp5=df_result5[df_result5['forecast_gdp']!=0]\n",
    "relative_mse5=((temp5['GDP_CYOY']-temp5['forecast_gdp'])**2).mean()/((temp5['GDP_CYOY']-temp5['benchmark'])**2).mean()\n",
    "relative_mse5"
   ]
  },
  {
   "cell_type": "code",
   "execution_count": 239,
   "metadata": {},
   "outputs": [
    {
     "data": {
      "text/plain": [
       "<Axes: xlabel='DATE'>"
      ]
     },
     "execution_count": 239,
     "metadata": {},
     "output_type": "execute_result"
    },
    {
     "data": {
      "image/png": "[encoded data removed]",
      "text/plain": [
       "<Figure size 1500x400 with 1 Axes>"
      ]
     },
     "metadata": {},
     "output_type": "display_data"
    }
   ],
   "source": [
    "df_result5[['GDP_CYOY','benchmark', 'forecast_gdp']].loc['2013-1-31':].plot(figsize=(15,4), style=['--','-', '.'])"
   ]
  },
  {
   "cell_type": "markdown",
   "metadata": {},
   "source": [
    "## (6) Use autoregressive MIDAS with two indicators on a recursive basis (beta weights)"
   ]
  },
  {
   "cell_type": "code",
   "execution_count": 240,
   "metadata": {
    "collapsed": true
   },
   "outputs": [
    {
     "name": "stderr",
     "output_type": "stream",
     "text": [
      "c:\\Users\\GUO\\hello\\.venv\\midas_pro\\example\\midas\\adl.py:85: FutureWarning: `rcond` parameter will change to the default of machine precision times ``max(M, N)`` where M and N are the input matrix dimensions.\n",
      "To use the future default and silence this warning we advise to pass `rcond=None`, to keep using the old, explicitly pass `rcond=-1`.\n",
      "  c = np.linalg.lstsq(np.concatenate([np.ones((len(xw1), 1)), xw1.reshape((len(xw1), 1)), xw2.reshape((len(xw2), 1)), yl], axis=1), y)[0]\n"
     ]
    }
   ],
   "source": [
    "# n=3, ylag=1, method='recursive', beta\n",
    "df_fc6, rmse6=forecast_all(gdp.GDP_CYOY, ip.IP_YOY, lei.LEI_YOY, start_date, end_date, \n",
    "                           x1lag='3m',x2lag='3m', ylag=1, n=3, forecast_horizon=1, \n",
    "                           poly1='beta', poly2='beta', method='recursive')"
   ]
  },
  {
   "cell_type": "code",
   "execution_count": 241,
   "metadata": {
    "collapsed": true
   },
   "outputs": [],
   "source": [
    "# Store forecast results in df_result\n",
    "df_result6=store_gdp(df_fc6[0],df_fc6[1],df_fc6[2],df_result)"
   ]
  },
  {
   "cell_type": "code",
   "execution_count": 242,
   "metadata": {
    "scrolled": true
   },
   "outputs": [
    {
     "data": {
      "text/html": [
       "<div>\n",
       "<style scoped>\n",
       "    .dataframe tbody tr th:only-of-type {\n",
       "        vertical-align: middle;\n",
       "    }\n",
       "\n",
       "    .dataframe tbody tr th {\n",
       "        vertical-align: top;\n",
       "    }\n",
       "\n",
       "    .dataframe thead th {\n",
       "        text-align: right;\n",
       "    }\n",
       "</style>\n",
       "<table border=\"1\" class=\"dataframe\">\n",
       "  <thead>\n",
       "    <tr style=\"text-align: right;\">\n",
       "      <th></th>\n",
       "      <th>final_gdp_date</th>\n",
       "      <th>GDP_CYOY</th>\n",
       "      <th>benchmark</th>\n",
       "      <th>forecast_gdp</th>\n",
       "    </tr>\n",
       "    <tr>\n",
       "      <th>DATE</th>\n",
       "      <th></th>\n",
       "      <th></th>\n",
       "      <th></th>\n",
       "      <th></th>\n",
       "    </tr>\n",
       "  </thead>\n",
       "  <tbody>\n",
       "    <tr>\n",
       "      <th>2010-01-31</th>\n",
       "      <td>2010-03-31</td>\n",
       "      <td>12.2</td>\n",
       "      <td>10.505128</td>\n",
       "      <td>9.552092</td>\n",
       "    </tr>\n",
       "    <tr>\n",
       "      <th>2010-02-28</th>\n",
       "      <td>2010-03-31</td>\n",
       "      <td>12.2</td>\n",
       "      <td>10.533333</td>\n",
       "      <td>9.552092</td>\n",
       "    </tr>\n",
       "    <tr>\n",
       "      <th>2010-03-31</th>\n",
       "      <td>2010-03-31</td>\n",
       "      <td>12.2</td>\n",
       "      <td>10.561538</td>\n",
       "      <td>9.552092</td>\n",
       "    </tr>\n",
       "    <tr>\n",
       "      <th>2010-04-30</th>\n",
       "      <td>2010-06-30</td>\n",
       "      <td>11.4</td>\n",
       "      <td>10.582906</td>\n",
       "      <td>12.030573</td>\n",
       "    </tr>\n",
       "    <tr>\n",
       "      <th>2010-05-31</th>\n",
       "      <td>2010-06-30</td>\n",
       "      <td>11.4</td>\n",
       "      <td>10.604274</td>\n",
       "      <td>12.030573</td>\n",
       "    </tr>\n",
       "    <tr>\n",
       "      <th>...</th>\n",
       "      <td>...</td>\n",
       "      <td>...</td>\n",
       "      <td>...</td>\n",
       "      <td>...</td>\n",
       "    </tr>\n",
       "    <tr>\n",
       "      <th>2023-06-30</th>\n",
       "      <td>2023-06-30</td>\n",
       "      <td>5.5</td>\n",
       "      <td>6.180000</td>\n",
       "      <td>5.514649</td>\n",
       "    </tr>\n",
       "    <tr>\n",
       "      <th>2023-07-31</th>\n",
       "      <td>2023-09-30</td>\n",
       "      <td>5.2</td>\n",
       "      <td>6.158034</td>\n",
       "      <td>0.000000</td>\n",
       "    </tr>\n",
       "    <tr>\n",
       "      <th>2023-08-31</th>\n",
       "      <td>2023-09-30</td>\n",
       "      <td>5.2</td>\n",
       "      <td>6.136068</td>\n",
       "      <td>0.000000</td>\n",
       "    </tr>\n",
       "    <tr>\n",
       "      <th>2023-09-30</th>\n",
       "      <td>2023-09-30</td>\n",
       "      <td>5.2</td>\n",
       "      <td>6.114103</td>\n",
       "      <td>0.000000</td>\n",
       "    </tr>\n",
       "    <tr>\n",
       "      <th>2023-10-31</th>\n",
       "      <td>0</td>\n",
       "      <td>0.0</td>\n",
       "      <td>0.000000</td>\n",
       "      <td>0.000000</td>\n",
       "    </tr>\n",
       "  </tbody>\n",
       "</table>\n",
       "<p>166 rows × 4 columns</p>\n",
       "</div>"
      ],
      "text/plain": [
       "           final_gdp_date  GDP_CYOY  benchmark  forecast_gdp\n",
       "DATE                                                        \n",
       "2010-01-31     2010-03-31      12.2  10.505128      9.552092\n",
       "2010-02-28     2010-03-31      12.2  10.533333      9.552092\n",
       "2010-03-31     2010-03-31      12.2  10.561538      9.552092\n",
       "2010-04-30     2010-06-30      11.4  10.582906     12.030573\n",
       "2010-05-31     2010-06-30      11.4  10.604274     12.030573\n",
       "...                   ...       ...        ...           ...\n",
       "2023-06-30     2023-06-30       5.5   6.180000      5.514649\n",
       "2023-07-31     2023-09-30       5.2   6.158034      0.000000\n",
       "2023-08-31     2023-09-30       5.2   6.136068      0.000000\n",
       "2023-09-30     2023-09-30       5.2   6.114103      0.000000\n",
       "2023-10-31              0       0.0   0.000000      0.000000\n",
       "\n",
       "[166 rows x 4 columns]"
      ]
     },
     "execution_count": 242,
     "metadata": {},
     "output_type": "execute_result"
    }
   ],
   "source": [
    "# Forecast results\n",
    "df_result6.iloc[df_result6.index.get_loc(end_date)+1:]"
   ]
  },
  {
   "cell_type": "code",
   "execution_count": 243,
   "metadata": {},
   "outputs": [
    {
     "data": {
      "text/plain": [
       "<Axes: xlabel='DATE'>"
      ]
     },
     "execution_count": 243,
     "metadata": {},
     "output_type": "execute_result"
    },
    {
     "data": {
      "image/png": "[encoded data removed]",
      "text/plain": [
       "<Figure size 1500x400 with 1 Axes>"
      ]
     },
     "metadata": {},
     "output_type": "display_data"
    }
   ],
   "source": [
    "df_result6[['GDP_CYOY','benchmark', 'forecast_gdp']].loc['2013-1-31':].plot(figsize=(15,4), style=['--','-', '--'])"
   ]
  },
  {
   "cell_type": "code",
   "execution_count": 244,
   "metadata": {},
   "outputs": [
    {
     "data": {
      "text/plain": [
       "0.6717839278744678"
      ]
     },
     "execution_count": 244,
     "metadata": {},
     "output_type": "execute_result"
    }
   ],
   "source": [
    "# Measure forecast accuracy\n",
    "temp6=df_result6[df_result6['forecast_gdp']!=0]\n",
    "relative_mse6=((temp6['GDP_CYOY']-temp6['forecast_gdp'])**2).mean()/((temp6['GDP_CYOY']-temp6['benchmark'])**2).mean()\n",
    "relative_mse6"
   ]
  },
  {
   "cell_type": "code",
   "execution_count": 245,
   "metadata": {},
   "outputs": [],
   "source": [
    "df_result6.to_csv(r\"D:\\wind\\GDP_month.csv\")"
   ]
  },
  {
   "cell_type": "markdown",
   "metadata": {},
   "source": [
    "# Conclusion"
   ]
  },
  {
   "cell_type": "markdown",
   "metadata": {},
   "source": [
    "Compared the relative MSE of MIDAS and autoregressive MIDAS on a rolling basis and recursive basis:\n",
    "\n",
    "1. relative MSE of MIDAS on a rolling basis: 0.7431\n",
    "2. relative MSE of MIDAS on a recursive basis: 1.2250\n",
    "3. relative MSE of autoregressive MIDAS on a rolling basis: 1.1286\n",
    "4. relative MSE of autoregressive MIDAS on a recursive basis: 0.8547\n",
    "5. relative MSE of MIDAS on a rolling basis (beta weights): 0.7519\n",
    "6. relative MSE of autoregressive MIDAS on a recursive basis (beta weights): 0.7458\n",
    "\n",
    "We find that the MIDAS on a rolling basis performs the best."
   ]
  }
 ],
 "metadata": {
  "kernelspec": {
   "display_name": "Python 3",
   "language": "python",
   "name": "python3"
  },
  "language_info": {
   "codemirror_mode": {
    "name": "ipython",
    "version": 3
   },
   "file_extension": ".py",
   "mimetype": "text/x-python",
   "name": "python",
   "nbconvert_exporter": "python",
   "pygments_lexer": "ipython3",
   "version": "3.11.4"
  }
 },
 "nbformat": 4,
 "nbformat_minor": 2
}
